{
  "cells": [
    {
      "cell_type": "markdown",
      "metadata": {
        "id": "ajEa2q3NyVNj"
      },
      "source": [
        "# AI Tuning: EDA Template"
      ]
    },
    {
      "cell_type": "markdown",
      "metadata": {
        "id": "nR5qH4SeyVNo"
      },
      "source": [
        "### Imports"
      ]
    },
    {
      "cell_type": "code",
      "execution_count": null,
      "metadata": {
        "cellView": "form",
        "id": "HgS45foqwcrp"
      },
      "outputs": [],
      "source": [
        "import pandas as pd\n",
        "import numpy as np\n",
        "import matplotlib.pyplot as plt\n",
        "from datetime import datetime\n",
        "import seaborn as sns\n",
        "import nltk\n",
        "from nltk.tokenize import word_tokenize\n",
        "nltk.download('punkt')\n",
        "from wordcloud import WordCloud\n",
        "from collections import Counter\n",
        "from nltk.util import ngrams"
      ]
    },
    {
      "cell_type": "markdown",
      "metadata": {
        "id": "QvWgTHtIyVNr"
      },
      "source": [
        "# Global Variables"
      ]
    },
    {
      "cell_type": "code",
      "execution_count": null,
      "metadata": {
        "id": "Ewqzs0xWA6HB"
      },
      "outputs": [],
      "source": [
        "# change variables per customer\n",
        "FILENAME = \"file_name.csv\""
      ]
    },
    {
      "cell_type": "markdown",
      "metadata": {
        "id": "8iPOEQ7MyVNs"
      },
      "source": [
        "## Imported Data Manipulation"
      ]
    },
    {
      "cell_type": "code",
      "execution_count": null,
      "metadata": {
        "cellView": "form",
        "id": "k32geRHfVjoO"
      },
      "outputs": [],
      "source": [
        "# import data into dataframe\n",
        "data = pd.read_csv(FILENAME)\n",
        "\n",
        "# extract date from filename\n",
        "DATE = FILENAME.split('_')[5].replace('.csv', '')\n",
        "#print(DATE)\n",
        "\n",
        "# extract IVA name from filename\n",
        "IVA = FILENAME.split('_')[0]\n",
        "\n",
        "# double check date range\n",
        "print(\"Min date: \", data['Date'].min())\n",
        "print(\"Max data: \", data['Date'].max())\n",
        "\n",
        "# view shape\n",
        "print(\"Shape:\", data.shape)\n",
        "\n",
        "# view df\n",
        "data.head()"
      ]
    },
    {
      "cell_type": "code",
      "execution_count": null,
      "metadata": {
        "id": "0aJDPylkyVNs"
      },
      "outputs": [],
      "source": [
        "# create array of intents\n",
        "intents = []\n",
        "\n",
        "# count intents in clean file\n",
        "for item in data['Intent']:\n",
        "    intents.append(item)\n",
        "\n",
        "# use a set so all double occurrences are discarded\n",
        "intent_names = set(intents)\n",
        "print(f'We identified {len(intent_names)} different intents in the file.\\n')\n",
        "\n",
        "# counting the total occurrences for each intent\n",
        "intent_counts = {} # dictionary\n",
        "\n",
        "for intent in intent_names:\n",
        "    count = 0\n",
        "    for item in intents:\n",
        "        if item == intent:\n",
        "            count += 1\n",
        "    intent_counts[intent] = count\n",
        "\n",
        "# reorder dictionary based on key values\n",
        "ordered_intent_values = {k: v for k, v in sorted(intent_counts.items(), key=lambda item: item[1])}\n",
        "ordered_intent_values_reversed = {k: v for k, v in sorted(intent_counts.items(), key=lambda item: item[1], reverse=True)}\n",
        "\n",
        "# create new arrays to separate\n",
        "ordered_intents = list(ordered_intent_values.keys())\n",
        "ordered_counts = list(ordered_intent_values.items())\n",
        "\n",
        "keys = []\n",
        "values = []\n",
        "ratios = []\n",
        "\n",
        "print(f'The identified intents and their counts/ratios are the following: ')\n",
        "\n",
        "intent_items = ordered_intent_values.items()\n",
        "\n",
        "for key, value in intent_items:\n",
        "    keys.append(key)\n",
        "    values.append(value)\n",
        "    ratio = round(((value / data.shape[0]) * 100), 2)\n",
        "    ratios.append(ratio)\n",
        "    print(f'{key}: {value}, {ratio}%')"
      ]
    },
    {
      "cell_type": "code",
      "execution_count": null,
      "metadata": {
        "id": "MKgkVlaWyVNt"
      },
      "outputs": [],
      "source": [
        "# lists need to be reversed\n",
        "numbers = values[::-1]\n",
        "labels = keys[::-1]\n",
        "\n",
        "# set height\n",
        "height = len(intent_names) * 0.25\n",
        "\n",
        "# set figure size\n",
        "plt.figure(figsize = (10, height))\n",
        "\n",
        "# create bar plot with winter palette\n",
        "sns.barplot(x = numbers, y = labels, palette = \"winter\")\n",
        "\n",
        "# set x and y labels\n",
        "plt.title(f'\\n{IVA}: Intent Overview\\n', fontweight=\"bold\", fontsize = 14)\n",
        "plt.xlabel(\"\\nNumber of Utterances\\n\", fontweight=\"bold\", fontsize = 12)\n",
        "plt.ylabel(\"\\nIntents\\n\", fontweight=\"bold\", fontsize = 12)\n",
        "plt.xticks(fontsize = 10)\n",
        "plt.yticks(fontsize = 10)\n",
        "\n",
        "# save the plot as an image\n",
        "plt.savefig('intent_overview.png', bbox_inches = 'tight')\n",
        "\n",
        "# show the plot\n",
        "plt.show()\n",
        "\n",
        "# close the plot to release memory\n",
        "plt.close()"
      ]
    },
    {
      "cell_type": "markdown",
      "metadata": {
        "id": "X4CtZ2vXyVNu"
      },
      "source": [
        "# Intent Analysis"
      ]
    },
    {
      "cell_type": "code",
      "execution_count": null,
      "metadata": {
        "cellView": "form",
        "id": "9AlTUyQnRYWr"
      },
      "outputs": [],
      "source": [
        "# most frequent and least frequent intents\n",
        "# change values to display more or less\n",
        "\n",
        "least_frequent_intents = {}\n",
        "most_frequent_intents = {}\n",
        "dict_length_slice = len(ordered_intent_values) - 1\n",
        "\n",
        "index = 0\n",
        "\n",
        "for key, value in ordered_intent_values.items():\n",
        "    index += 1\n",
        "    if index <= 6 and value != 0: # eliminates 'nan'\n",
        "        #print(index)\n",
        "        least_frequent_intents[key] = value\n",
        "    elif index > dict_length_slice - 3:\n",
        "        #print(index)\n",
        "        most_frequent_intents[key] = value\n",
        "\n",
        "# list needs to be reversed\n",
        "names = keys[::-1]\n",
        "counts = values[::-1]\n",
        "\n",
        "print(f'\\nMost frequent intents: {most_frequent_intents}.')\n",
        "print(f'\\nLeast frequent intents: {least_frequent_intents}.')"
      ]
    },
    {
      "cell_type": "code",
      "execution_count": null,
      "metadata": {
        "id": "L1ZWOHqtyVNu"
      },
      "outputs": [],
      "source": [
        "# find intents of interest\n",
        "print(f\"\\nIntents of Interest:\")\n",
        "\n",
        "intents_of_interest = []\n",
        "\n",
        "for key, value, ratio in zip(keys, values, ratios):\n",
        "  if key.lower() == 'other' or key.lower() == 'default fallback' or key.lower() == 'default fallback intent' or key.lower() == 'assistance' or key.lower() == 'agent' or key.lower() == 'agent intent' or key.lower() == 'transfer' or key.lower() == 'agent transfer' or key.lower() == 'operator' or key.lower() == 'customer-representative' or key.lower() == 'undefined':\n",
        "    print(f'{key}, {value}, {ratio}%')\n",
        "    intents_of_interest.append(key)\n",
        "\n",
        "# set reference values\n",
        "QUARTER = int(round(len(intent_names) / 4, 0))\n",
        "EIGHTH = int(round(len(intent_names) / 8, 0))\n",
        "SIXTEENTH = int(round(len(intent_names) / 16, 0))\n",
        "\n",
        "print(f'\\nQuarter value: {QUARTER}')\n",
        "print(f'Eighth value: {EIGHTH}')\n",
        "print(f'Sixteenth value: {SIXTEENTH}')"
      ]
    },
    {
      "cell_type": "markdown",
      "metadata": {
        "id": "SnNR5PifyVNu"
      },
      "source": [
        "## Intents of Interest"
      ]
    },
    {
      "cell_type": "code",
      "execution_count": null,
      "metadata": {
        "cellView": "form",
        "id": "bPjsxHgO7CUn"
      },
      "outputs": [],
      "source": [
        "# create new dataframe\n",
        "critical = pd.DataFrame(columns=['Utterance', 'Intent', 'Date', 'Confidence'])\n",
        "\n",
        "# find rows of interest\n",
        "critical = data[data['Intent'].isin(intents_of_interest)]\n",
        "\n",
        "# view dataframe\n",
        "critical.head()"
      ]
    },
    {
      "cell_type": "markdown",
      "metadata": {
        "id": "Mm-WlZIByVNv"
      },
      "source": [
        "## Timeframe Analysis"
      ]
    },
    {
      "cell_type": "code",
      "execution_count": null,
      "metadata": {
        "cellView": "form",
        "id": "foWvIrKTKwwN"
      },
      "outputs": [],
      "source": [
        "# function to find the day of the week given any date\n",
        "def find_weekday(date):\n",
        "\n",
        "  # change date type\n",
        "  date_object = datetime.strptime(date, '%Y-%m-%d')\n",
        "\n",
        "  # find numerical representation\n",
        "  num_of_week = date_object.weekday()\n",
        "\n",
        "  # create date array to print nicer\n",
        "  day_of_week = [\"Monday\", \"Tuesday\", \"Wednesday\", \"Thursday\", \"Friday\", \"Saturday\", \"Sunday\"]\n",
        "\n",
        "  # return result\n",
        "  return day_of_week[num_of_week]\n",
        "\n",
        "# create series of dates\n",
        "dates = data.groupby(['Date'])['Date'].count()\n",
        "\n",
        "# initialize counts\n",
        "max_date = dates.index[0]\n",
        "max_count = 0\n",
        "min_date = dates.index[0]\n",
        "min_count = 1000\n",
        "skew_date = dates.index[0]\n",
        "skew_count = 0\n",
        "\n",
        "# create dataframes per day\n",
        "for i in range(dates.count()):\n",
        "\n",
        "    # create daily dataframe\n",
        "    filtered = data.loc[data['Date'] == dates.index[i]]\n",
        "\n",
        "    # find date count of intents\n",
        "    date_count = filtered.shape[0]\n",
        "\n",
        "    if (date_count > max_count):\n",
        "        max_count = date_count\n",
        "        max_date = dates.index[i]\n",
        "    elif (date_count < min_count):\n",
        "        min_count = date_count\n",
        "        min_date = dates.index[i]\n",
        "    elif (date_count > skew_count):\n",
        "        skew_count = date_count\n",
        "        skew_date = dates.index[i]\n",
        "\n",
        "print('Number of utterances: ', len(intents))\n",
        "print('Timeframe: ', DATE)\n",
        "\n",
        "# create series of dates\n",
        "dates = data.groupby(['Date'])['Date'].count()\n",
        "\n",
        "# create dataframe of dates\n",
        "daily_df = pd.DataFrame(dates)\n",
        "\n",
        "# rename column\n",
        "daily_df.columns.values[0] = \"Utterance Count\"\n",
        "\n",
        "# sort dataframe\n",
        "daily_df = daily_df.sort_values(by = 'Date')\n",
        "\n",
        "# find average\n",
        "average = daily_df['Utterance Count'].mean()\n",
        "average = round(average, 2)\n",
        "\n",
        "# find median\n",
        "median = daily_df['Utterance Count'].median()\n",
        "median = round(median, 2)\n",
        "\n",
        "# plot\n",
        "daily_df.plot(kind='line', figsize=(10, 6), label = 'Utterance Count')\n",
        "\n",
        "# plot average\n",
        "plt.axhline(average, color = 'r', linestyle = '--', label = 'Average Count')\n",
        "\n",
        "# plot median\n",
        "plt.axhline(median, color = 'y', linestyle = '--', label = 'Median Count')\n",
        "\n",
        "# legend\n",
        "plt.legend()\n",
        "\n",
        "# label\n",
        "plt.xlabel('\\nDates', fontweight = \"bold\", fontsize = 12)\n",
        "plt.ylabel('Utterance Count\\n', fontweight = \"bold\", fontsize = 12)\n",
        "plt.title(f'{IVA}: Utterance Count by Day\\n', fontweight = \"bold\", fontsize = 14)\n",
        "plt.xticks(fontsize = 10)\n",
        "plt.yticks(fontsize = 10)\n",
        "\n",
        "# save the plot as an image\n",
        "plt.savefig('utterance_per_day.png', bbox_inches = 'tight')\n",
        "\n",
        "# show the plot\n",
        "plt.show()\n",
        "\n",
        "# close the plot to release memory\n",
        "plt.close()\n",
        "\n",
        "# view details\n",
        "print('Busiest Day: ' + max_date + \" (\" + find_weekday(max_date) + \")\")\n",
        "print('Slowest Day: ' + min_date + \" (\" + find_weekday(min_date) + \")\")\n",
        "print('Max Utterance Count: ' + str(max_count))\n",
        "print('Min Utterance Count: ' + str(min_count))\n",
        "print('Average Utterance Count: ' + str(average))\n",
        "print('Median Utterance Count: ' + str(median))"
      ]
    },
    {
      "cell_type": "markdown",
      "metadata": {
        "id": "4q68gjhTyVNv"
      },
      "source": [
        "## Lowest Confidence Analysis"
      ]
    },
    {
      "cell_type": "code",
      "execution_count": null,
      "metadata": {
        "cellView": "form",
        "id": "l0PzOPCugh9C"
      },
      "outputs": [],
      "source": [
        "def lowest_conf(data, split):\n",
        "\n",
        "    # sort by confidence\n",
        "    con_data = data.sort_values(by=['Confidence'], ascending = True)\n",
        "\n",
        "    # group intents, set order ascending, and set data split\n",
        "    order = con_data.groupby([\"Intent\"])[\"Confidence\"].mean().sort_values(ascending = True).index[0:split]\n",
        "\n",
        "    # set height\n",
        "    height = split * 0.75\n",
        "\n",
        "    # set figure size\n",
        "    plt.figure(figsize = (10, height))\n",
        "\n",
        "    # set x-axis to 1 to avoid misleading reader\n",
        "    plt.xlim(0, 1.0)\n",
        "\n",
        "    # create bar plot\n",
        "    sns.barplot(y='Intent', x='Confidence', data=data, order=order, palette=\"winter\")\n",
        "\n",
        "    # label plot\n",
        "    plt.title(f'{IVA}: Lowest Confidence Levels\\n', fontweight = \"bold\", fontsize = 14)\n",
        "    plt.xlabel(\"\\nConfidence Score\", fontweight = \"bold\", fontsize = 12)\n",
        "    plt.ylabel(\"Intent Name\\n\", fontweight = \"bold\", fontsize = 12)\n",
        "    plt.xticks(fontsize = 10)\n",
        "    plt.yticks(fontsize = 10)\n",
        "\n",
        "    # save the plot as an image\n",
        "    plt.savefig('lowest_confidence.png', bbox_inches='tight')\n",
        "\n",
        "    # show the plot\n",
        "    plt.show()\n",
        "\n",
        "    # close the plot to release memory\n",
        "    plt.close()\n",
        "\n",
        "# view\n",
        "# lowest_conf(data, SIXTEENTH)\n",
        "# lowest_conf(data, EIGHTH)\n",
        "lowest_conf(data, QUARTER)"
      ]
    },
    {
      "cell_type": "markdown",
      "metadata": {
        "id": "aHBLz6nIyVNw"
      },
      "source": [
        "## Highest Confidence Analysis"
      ]
    },
    {
      "cell_type": "code",
      "execution_count": null,
      "metadata": {
        "cellView": "form",
        "id": "ER5k-CNoyrC7"
      },
      "outputs": [],
      "source": [
        "def lowest_conf(data, split):\n",
        "\n",
        "    # sort by confidence\n",
        "    con_data = data.sort_values(by=['Confidence'], ascending = True)\n",
        "\n",
        "    # group intents, set order ascending, and set data split\n",
        "    order = con_data.groupby([\"Intent\"])[\"Confidence\"].mean().sort_values(ascending = True).index[0:split]\n",
        "\n",
        "    # set height\n",
        "    height = split * 0.75\n",
        "\n",
        "    # set figure size\n",
        "    plt.figure(figsize = (10, height))\n",
        "\n",
        "    # set x-axis to 1 to avoid misleading reader\n",
        "    plt.xlim(0, 1.0)\n",
        "\n",
        "    # create bar plot\n",
        "    sns.barplot(y='Intent', x='Confidence', data=data, order=order, palette=\"winter\")\n",
        "\n",
        "    # label plot\n",
        "    plt.title(f'{IVA}: Lowest Confidence Levels\\n', fontweight = \"bold\", fontsize = 14)\n",
        "    plt.xlabel(\"\\nConfidence Score\", fontweight = \"bold\", fontsize = 12)\n",
        "    plt.ylabel(\"Intent Name\\n\", fontweight = \"bold\", fontsize = 12)\n",
        "    plt.xticks(fontsize = 10)\n",
        "    plt.yticks(fontsize = 10)\n",
        "\n",
        "    # save the plot as an image\n",
        "    plt.savefig('lowest_confidence.png', bbox_inches='tight')\n",
        "\n",
        "    # show the plot\n",
        "    plt.show()\n",
        "\n",
        "    # close the plot to release memory\n",
        "    plt.close()\n",
        "\n",
        "# view\n",
        "# lowest_conf(data, SIXTEENTH)\n",
        "# lowest_conf(data, EIGHTH)\n",
        "lowest_conf(data, QUARTER)"
      ]
    },
    {
      "cell_type": "markdown",
      "metadata": {
        "id": "pWhoDIzkyVNw"
      },
      "source": [
        "## Interest Distribution"
      ]
    },
    {
      "cell_type": "code",
      "execution_count": null,
      "metadata": {
        "cellView": "form",
        "id": "AbbsaddkK3ar"
      },
      "outputs": [],
      "source": [
        "def interest_dist(critical):\n",
        "\n",
        "  # set height\n",
        "  height = len(critical['Intent'].unique()) * 0.75\n",
        "\n",
        "  # set figure size\n",
        "  plt.figure(figsize = (10, height))\n",
        "\n",
        "  # Calculate the number of utterances per intent\n",
        "  utterances_per_intent = critical['Intent'].value_counts()\n",
        "\n",
        "  # Reset the index to convert the Series to a DataFrame\n",
        "  utterances_per_intent = utterances_per_intent.reset_index()\n",
        "\n",
        "  # Rename the columns\n",
        "  utterances_per_intent.columns = ['Intent', 'Count']\n",
        "\n",
        "  # Plot the bar chart\n",
        "  sns.barplot(y='Intent', x='Count', data=utterances_per_intent, palette='winter')\n",
        "\n",
        "  # Set x and y labels\n",
        "  plt.title(f'{IVA}: Number of Utterances per Intent\\n', fontweight = \"bold\",fontsize = 14)\n",
        "  plt.xlabel(\"\\nNumber of Utterances\", fontweight = \"bold\",fontsize = 12)\n",
        "  plt.ylabel(\"Intents\\n\", fontweight = \"bold\",fontsize = 12)\n",
        "  plt.xticks(fontsize = 10)\n",
        "  plt.yticks(fontsize = 10)\n",
        "\n",
        "  # Save the plot as an image\n",
        "  plt.savefig('interest_distribution.png',bbox_inches = 'tight')\n",
        "\n",
        "  # Show the plot\n",
        "  plt.show()\n",
        "\n",
        "  # Close the plot to release memory\n",
        "  plt.close()\n",
        "\n",
        "interest_dist(critical)"
      ]
    },
    {
      "cell_type": "markdown",
      "metadata": {
        "id": "xOwI2u5ZyVNw"
      },
      "source": [
        "## Interest Confidence"
      ]
    },
    {
      "cell_type": "code",
      "execution_count": null,
      "metadata": {
        "cellView": "form",
        "id": "x-fJNJLpfnxz"
      },
      "outputs": [],
      "source": [
        "def interest_conf(critical):\n",
        "\n",
        "    # sort by confidence\n",
        "    con_data = critical.sort_values(by=['Confidence'], ascending = False)\n",
        "\n",
        "    # group intents, set order ascending, and set data split\n",
        "    order = con_data.groupby([\"Intent\"])[\"Confidence\"].mean().sort_values(ascending = False).index[:]\n",
        "\n",
        "    # set height\n",
        "    height = len(con_data['Intent'].unique()) * 0.75\n",
        "\n",
        "    # set figure size\n",
        "    plt.figure(figsize = (10, height))\n",
        "\n",
        "    # set x-axis to 1 to avoid misleading reader\n",
        "    plt.xlim(0, 1.0)\n",
        "\n",
        "    # create bar plot\n",
        "    sns.barplot(y = 'Intent', x = 'Confidence', data = con_data, order = order, palette = \"winter\")\n",
        "\n",
        "    # label plot\n",
        "    plt.title(f'{IVA}: Confidence Levels of Interest\\n', fontweight = \"bold\", fontsize = 14)\n",
        "    plt.xlabel(\"\\nConfidence Score\", fontweight = \"bold\", fontsize = 12)\n",
        "    plt.ylabel(\"Intent Name\\n\", fontweight = \"bold\", fontsize = 12)\n",
        "    plt.xticks(fontsize = 10)\n",
        "    plt.yticks(fontsize = 10)\n",
        "\n",
        "    # save the plot as an image\n",
        "    plt.savefig('interest_confidence.png', bbox_inches='tight')\n",
        "\n",
        "    # show the plot\n",
        "    plt.show()\n",
        "\n",
        "    # close the plot to release memory\n",
        "    plt.close()\n",
        "\n",
        "interest_conf(critical)"
      ]
    },
    {
      "cell_type": "markdown",
      "metadata": {
        "id": "hEfMvmVOyVNx"
      },
      "source": [
        "## Most Frequent Intents Donut"
      ]
    },
    {
      "cell_type": "code",
      "execution_count": null,
      "metadata": {
        "cellView": "form",
        "id": "IDpK7myMK_jF"
      },
      "outputs": [],
      "source": [
        "print('1. ', ordered_counts[-1])\n",
        "print(\"2. \", ordered_counts[-2])\n",
        "print(\"3. \", ordered_counts[-3])\n",
        "\n",
        "# combine all the rest\n",
        "alr = sum(counts) - counts[0] - counts[1] - counts[2] - counts[3]\n",
        "\n",
        "# set size based on given values\n",
        "sizes = [counts[0], counts[1], counts[2], counts[3], alr]\n",
        "\n",
        "# create labels\n",
        "labels = [ordered_intents[-1], ordered_intents[-2], ordered_intents[-3], ordered_intents[-4], 'ATR (all the rest)']\n",
        "\n",
        "# set explosion\n",
        "explode = (0.05, 0.05, 0.05, 0.05, 0.05)\n",
        "\n",
        "# plot pie chart\n",
        "plt.pie(sizes, colors=sns.color_palette('Set2'), labels=labels,\n",
        "        autopct='%1.1f%%', pctdistance=0.85,\n",
        "        explode=explode, textprops={'fontsize': 10})\n",
        "\n",
        "# draw circle\n",
        "centre_circle = plt.Circle((0, 0), 0.70, fc='white')\n",
        "fig = plt.gcf()\n",
        "\n",
        "# add circle to pie chart\n",
        "fig.gca().add_artist(centre_circle)\n",
        "\n",
        "# title\n",
        "plt.title(f'{IVA}: Hits per Intent', fontweight = \"bold\")\n",
        "\n",
        "# legend\n",
        "plt.legend(labels, loc = \"center right\", bbox_to_anchor=(0, 1))\n",
        "\n",
        "# save the plot as an image\n",
        "plt.savefig('donut.png', bbox_inches = 'tight')\n",
        "\n",
        "# show plot\n",
        "plt.show()\n",
        "\n",
        "# close the plot to release memory\n",
        "plt.close()"
      ]
    },
    {
      "cell_type": "markdown",
      "metadata": {
        "id": "24-4RvNryVNx"
      },
      "source": [
        "## Intents with <10 hits Bar Chart"
      ]
    },
    {
      "cell_type": "code",
      "execution_count": null,
      "metadata": {
        "cellView": "form",
        "id": "kUdoBoPTLFjY"
      },
      "outputs": [],
      "source": [
        "less_than_ten = {}\n",
        "\n",
        "for key, value in intent_counts.items():\n",
        "  if value <= 10:\n",
        "    less_than_ten[key] = value\n",
        "\n",
        "if less_than_ten != {}:\n",
        "\n",
        "  print('Intents with less than 10 hits:')\n",
        "\n",
        "  # sort array\n",
        "  sorted_less_than_ten = sorted(less_than_ten.items(), key=lambda x: x[1], reverse=True)\n",
        "\n",
        "  for key, value in sorted_less_than_ten:\n",
        "    print(f'{key}: {value}')\n",
        "\n",
        "  # plot graph for least frequently used intents (less than 10 hits)\n",
        "  values = [item[1] for item in sorted_less_than_ten]\n",
        "  labels = [item[0] for item in sorted_less_than_ten]\n",
        "\n",
        "  # set height\n",
        "  height = len(labels) * 0.5\n",
        "\n",
        "  # set figure size\n",
        "  plt.figure(figsize = (10, height))\n",
        "\n",
        "  # Create bar plot with winter palette\n",
        "  sns.barplot(x = values, y = labels, palette = \"winter\")\n",
        "\n",
        "  # Set x and y labels\n",
        "  plt.title(f'\\n{IVA}: Intents with less than 10 hits\\n', fontweight = \"bold\", fontsize = 14)\n",
        "  plt.xlabel(\"\\nNumber of utterances\\n\", fontweight = \"bold\", fontsize = 12)\n",
        "  plt.ylabel(\"\\nIntent name\\n\", fontweight = \"bold\", fontsize = 12)\n",
        "  plt.xticks(fontsize = 10)\n",
        "  plt.yticks(fontsize = 10)\n",
        "\n",
        "  # save the plot as an image\n",
        "  plt.savefig('less_than_ten.png', bbox_inches = 'tight')\n",
        "\n",
        "  # show the plot\n",
        "  plt.show()\n",
        "\n",
        "  # close the plot to release memory\n",
        "  plt.close()"
      ]
    },
    {
      "cell_type": "markdown",
      "metadata": {
        "id": "YqfXJKCoyVNx"
      },
      "source": [
        "## Least Frequent Bar Chart"
      ]
    },
    {
      "cell_type": "code",
      "execution_count": null,
      "metadata": {
        "cellView": "form",
        "id": "pxcZ_dKWLVPN"
      },
      "outputs": [],
      "source": [
        "# plot graph fro most frequently hit intents\n",
        "values = list(least_frequent_intents.values())[::-1]\n",
        "labels = list(least_frequent_intents.keys())[::-1]\n",
        "\n",
        "# set height\n",
        "height = len(labels) * 0.75\n",
        "\n",
        "# set figure size\n",
        "plt.figure(figsize = (10, height))\n",
        "\n",
        "# Create bar plot with winter palette\n",
        "sns.barplot(x = values, y = labels, palette = \"winter\")\n",
        "\n",
        "# Set x and y labels\n",
        "plt.title(f'\\n{IVA}: Least frequently used intents\\n', fontweight=\"bold\", fontsize= 14)\n",
        "plt.xlabel(\"\\nNumber of utterances\\n\", fontweight=\"bold\", fontsize=12)\n",
        "plt.ylabel(\"\\nIntent name\\n\", fontweight=\"bold\", fontsize=12)\n",
        "plt.xticks(fontsize = 10)\n",
        "plt.yticks(fontsize = 10)\n",
        "\n",
        "# save the plot as an image\n",
        "plt.savefig('least_frequent.png', bbox_inches = 'tight')\n",
        "\n",
        "# show the plot\n",
        "plt.show()\n",
        "\n",
        "# close the plot to release memory\n",
        "plt.close()"
      ]
    },
    {
      "cell_type": "markdown",
      "metadata": {
        "id": "-jnn44iVyVNx"
      },
      "source": [
        "## Most Frequent Bar Chart"
      ]
    },
    {
      "cell_type": "code",
      "execution_count": null,
      "metadata": {
        "cellView": "form",
        "id": "ud6uCoZjLb8P"
      },
      "outputs": [],
      "source": [
        "# plot graph fro most frequently hit intents\n",
        "values = list(most_frequent_intents.values())[::-1]\n",
        "labels = list(most_frequent_intents.keys())[::-1]\n",
        "\n",
        "# set height\n",
        "height = len(labels) * 0.75\n",
        "\n",
        "# set figure size\n",
        "plt.figure(figsize = (10, height))\n",
        "\n",
        "# Create bar plot with winter palette\n",
        "sns.barplot(x = values, y = labels, palette = \"winter\")\n",
        "\n",
        "# Set x and y labels\n",
        "plt.title(f'\\n{IVA}: Most frequently used intents\\n', fontweight = \"bold\", fontsize = 14)\n",
        "plt.xlabel(\"\\nNumber of utterances\\n\", fontweight = \"bold\", fontsize = 12)\n",
        "plt.ylabel(\"\\nIntent name\\n\", fontweight = \"bold\", fontsize = 12)\n",
        "plt.xticks(fontsize = 10)\n",
        "plt.yticks(fontsize = 10)\n",
        "\n",
        "# save the plot as an image\n",
        "plt.savefig('most_frequent.png', bbox_inches = 'tight')\n",
        "\n",
        "# show the plot\n",
        "plt.show()\n",
        "\n",
        "# close the plot to release memory\n",
        "plt.close()"
      ]
    }
  ],
  "metadata": {
    "colab": {
      "provenance": []
    },
    "kernelspec": {
      "display_name": "Python 3",
      "name": "python3"
    },
    "language_info": {
      "codemirror_mode": {
        "name": "ipython",
        "version": 3
      },
      "file_extension": ".py",
      "mimetype": "text/x-python",
      "name": "python",
      "nbconvert_exporter": "python",
      "pygments_lexer": "ipython3",
      "version": "3.10.9"
    }
  },
  "nbformat": 4,
  "nbformat_minor": 0
}
