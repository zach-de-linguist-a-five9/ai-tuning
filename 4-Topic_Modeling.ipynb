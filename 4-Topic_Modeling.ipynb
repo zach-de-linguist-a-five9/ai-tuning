{
  "cells": [
    {
      "cell_type": "markdown",
      "metadata": {
        "id": "Tj-sF0ge0-C4"
      },
      "source": [
        "# AI Tuning: Topic Modelling"
      ]
    },
    {
      "cell_type": "markdown",
      "metadata": {
        "id": "_RWCCQMk0-C6"
      },
      "source": [
        "### Imports"
      ]
    },
    {
      "cell_type": "code",
      "execution_count": null,
      "metadata": {
        "cellView": "form",
        "id": "Y3a_XSZnasRT"
      },
      "outputs": [],
      "source": [
        "import pandas as pd\n",
        "\n",
        "import nltk, re\n",
        "\n",
        "from nltk.corpus import stopwords\n",
        "from nltk.stem import PorterStemmer\n",
        "from nltk.tokenize import word_tokenize, sent_tokenize\n",
        "from nltk.tokenize import RegexpTokenizer\n",
        "from nltk.stem.wordnet import WordNetLemmatizer\n",
        "\n",
        "from collections import Counter\n",
        "from nltk.util import ngrams\n",
        "nltk.download('punkt')\n",
        "nltk.download('stopwords')\n",
        "nltk.download('wordnet')\n",
        "nltk.download('omw-1.4')\n",
        "\n",
        "import numpy as np\n",
        "\n",
        "import spacy\n",
        "\n",
        "#Sentiment\n",
        "nltk.download('vader_lexicon')\n",
        "\n",
        "#Creating requency distribution\n",
        "from nltk.probability import FreqDist\n",
        "\n",
        "from nltk.sentiment import SentimentIntensityAnalyzer\n",
        "\n",
        "import plotly.express as px\n",
        "import matplotlib.pyplot as plt\n",
        "from matplotlib.pyplot import pie, axis, show\n",
        "import seaborn as sns\n",
        "\n",
        "from wordcloud import WordCloud, STOPWORDS, ImageColorGenerator\n",
        "from sklearn.feature_extraction.text import CountVectorizer\n",
        "\n",
        "#Topic modeling using Latent Dirichlet Allocation (LDA) and Gensim\n",
        "import gensim\n",
        "from gensim.corpora import Dictionary\n",
        "from gensim.models.ldamodel import LdaModel\n",
        "from gensim.models import CoherenceModel\n",
        "\n",
        "import gensim.corpora as corpora\n",
        "\n",
        "#Importing pretty print\n",
        "import pprint\n",
        "from pprint import pprint\n",
        "\n",
        "#Installing BERTopic for topic modeling (one of the tools)\n",
        "%pip install bertopic\n",
        "from bertopic import BERTopic"
      ]
    },
    {
      "cell_type": "code",
      "execution_count": null,
      "metadata": {
        "id": "E7SL_Gw-aq8h"
      },
      "outputs": [],
      "source": [
        "# @title Global Variables\n",
        "\n",
        "# change variables per customer\n",
        "FILENAME_MODELLING = \"file_name\"\n",
        "FILENAME_EXTRACTION = \"HF_file_name\""
      ]
    },
    {
      "cell_type": "code",
      "source": [
        "# @title Bigram Function\n",
        "\n",
        "def bigrams(target_intent, words, length):\n",
        "\n",
        "  # create bigrams\n",
        "  bigrams_series = (pd.Series(nltk.ngrams(words, 2)).value_counts())[:length]\n",
        "\n",
        "  # set height\n",
        "  height = length * 0.25\n",
        "\n",
        "  # set figure size\n",
        "  plt.figure(figsize = (10, height))\n",
        "\n",
        "  # plot the bar chart\n",
        "  sns.barplot(y = bigrams_series.index, x = bigrams_series.values, palette = 'winter')\n",
        "\n",
        "  # set labels\n",
        "  plt.title('Most Frequent Bigrams\\n', fontweight = \"bold\", fontsize = 14)\n",
        "  plt.xlabel(\"\\nNumber of Occurances\", fontweight = \"bold\", fontsize = 12)\n",
        "  plt.ylabel(\"Bigrams\\n\", fontweight = \"bold\", fontsize = 12)\n",
        "  plt.xticks(fontsize = 10)\n",
        "  plt.yticks(fontsize = 10)\n",
        "\n",
        "  # set filename\n",
        "  filename = 'bigram_' + target_intent + '.png'\n",
        "\n",
        "  # save the plot as an image\n",
        "  plt.savefig(filename, bbox_inches = 'tight')\n",
        "\n",
        "  # show the plot\n",
        "  plt.show()\n",
        "\n",
        "  # close the plot to release memory\n",
        "  plt.close()"
      ],
      "metadata": {
        "cellView": "form",
        "id": "bhFK8jMqxqGc"
      },
      "execution_count": null,
      "outputs": []
    },
    {
      "cell_type": "code",
      "source": [
        "# @title Trigram Function\n",
        "\n",
        "def trigrams(target_intent, words, length):\n",
        "\n",
        "  # create trigrams\n",
        "  trigrams_series = (pd.Series(nltk.ngrams(words, 3)).value_counts())[:length]\n",
        "\n",
        "  # set height\n",
        "  height = length * 0.25\n",
        "\n",
        "  # set figure size\n",
        "  plt.figure(figsize = (10, height))\n",
        "\n",
        "  # plot the bar chart\n",
        "  sns.barplot(y = trigrams_series.index, x = trigrams_series.values, palette = 'winter')\n",
        "\n",
        "  # set labels\n",
        "  plt.title('Most Frequent Trigrams\\n', fontweight = \"bold\",fontsize = 14)\n",
        "  plt.xlabel(\"\\nNumber of Occurances\", fontweight = \"bold\",fontsize = 12)\n",
        "  plt.ylabel(\"Trigrams\\n\", fontweight = \"bold\",fontsize = 12)\n",
        "  plt.xticks(fontsize = 10)\n",
        "  plt.yticks(fontsize = 10)\n",
        "\n",
        "  # set filename\n",
        "  filename = 'trigram_' + target_intent + '.png'\n",
        "\n",
        "  # save the plot as an image\n",
        "  plt.savefig(filename, bbox_inches = 'tight')\n",
        "\n",
        "  # show the plot\n",
        "  plt.show()\n",
        "\n",
        "  # close the plot to release memory\n",
        "  plt.close()"
      ],
      "metadata": {
        "cellView": "form",
        "id": "bTngc0b2zcqI"
      },
      "execution_count": null,
      "outputs": []
    },
    {
      "cell_type": "code",
      "execution_count": null,
      "metadata": {
        "id": "KYYyDkU4odwI"
      },
      "outputs": [],
      "source": [
        "# @title Imported Data Manipulation\n",
        "\n",
        "# import data into dataframe\n",
        "data = pd.read_csv(FILENAME_MODELLING)\n",
        "data_for_extraction = pd.read_csv(FILENAME_EXTRACTION)\n",
        "\n",
        "# extract date from filename\n",
        "DATE = FILENAME_MODELLING.split('_')[5].replace('.csv', '')\n",
        "\n",
        "# extract IVA name from filename\n",
        "IVA = FILENAME_MODELLING.split('_')[0]\n",
        "\n",
        "# double check date range\n",
        "print(\"Min date: \", data['Date'].min())\n",
        "print(\"Max data: \", data['Date'].max())\n",
        "\n",
        "# view shape\n",
        "print(\"Shape:\", data.shape)\n",
        "\n",
        "# view df\n",
        "data.head()"
      ]
    },
    {
      "cell_type": "markdown",
      "metadata": {
        "id": "Ax3N2h490-C7"
      },
      "source": [
        "NB: Consider adding general 'discovery' step for customers with IVAs that require a lot of improvements."
      ]
    },
    {
      "cell_type": "markdown",
      "metadata": {
        "id": "2JH5nmnP0-C7"
      },
      "source": [
        "# Default Fallback"
      ]
    },
    {
      "cell_type": "code",
      "execution_count": null,
      "metadata": {
        "id": "RpaKL51y0-C7"
      },
      "outputs": [],
      "source": [
        "# Intent name\n",
        "default_fallback_name = 'ADD'\n",
        "\n",
        "default_df = data[data['Intent'] == default_fallback_name]\n",
        "default_df.head()"
      ]
    },
    {
      "cell_type": "code",
      "execution_count": null,
      "metadata": {
        "id": "5C4Yabi50-C8"
      },
      "outputs": [],
      "source": [
        "default_df_count = default_df.shape[0]\n",
        "print(default_df_count)"
      ]
    },
    {
      "cell_type": "code",
      "execution_count": null,
      "metadata": {
        "id": "9dUDsDQd0-C8"
      },
      "outputs": [],
      "source": [
        "agent_sentences_def = []\n",
        "non_agent_sentences_def = []\n",
        "# agent vs non agent utterances\n",
        "for utterance in default_df['Utterance']:\n",
        "    if 'assistant' in utterance or 'represent' in utterance or 'office' in utterance or 'corporate office' in utterance or 'customer service' in utterance or 'speak' in utterance or 'agent' in utterance or 'representative' in utterance or 'talk' in utterance or 'human' in utterance or 'analyst' in utterance or 'associate' in utterance or 'person' in utterance or 'support' in utterance or 'desk' in utterance or 'operator' in utterance or 'customer assistance' in utterance or 'assistance' in utterance or 'connect' in utterance or 'somebody' in utterance or 'someone' in utterance:\n",
        "        agent_sentences_def.append(utterance)\n",
        "    else:\n",
        "        non_agent_sentences_def.append(utterance)\n",
        "agent_count_def = len(agent_sentences_def)\n",
        "non_agent_count_def = len(non_agent_sentences_def)\n",
        "\n",
        "print(agent_count_def)\n",
        "print(agent_sentences_def)"
      ]
    },
    {
      "cell_type": "code",
      "execution_count": null,
      "metadata": {
        "id": "0vqhybgL0-C8"
      },
      "outputs": [],
      "source": [
        "sizes = [agent_count_def, non_agent_count_def]\n",
        "labels = ['Agent Transfer', 'All The Rest']\n",
        "\n",
        "# explosion\n",
        "explode = (0.05, 0.05)\n",
        "\n",
        "# Pie Chart\n",
        "plt.pie(sizes, colors=sns.color_palette('Set2'), labels=labels,\n",
        "        autopct='%1.1f%%', pctdistance=0.85,\n",
        "        explode=explode, textprops={'fontsize': 10})\n",
        "\n",
        "# draw circle\n",
        "centre_circle = plt.Circle((0, 0), 0.70, fc='white')\n",
        "fig = plt.gcf()\n",
        "\n",
        "# Adding Circle in Pie chart\n",
        "fig.gca().add_artist(centre_circle)\n",
        "\n",
        "# Adding Title of chart\n",
        "plt.title(f'{IVA}: {default_fallback_name}: Agent Transfer Requests')\n",
        "\n",
        "# Add Legends\n",
        "plt.legend(labels, loc=\"upper right\")\n",
        "\n",
        "# set filename\n",
        "filename = 'agent_count_' + default_fallback_name + '.png'\n",
        "\n",
        "# save the plot as an image\n",
        "plt.savefig(filename, bbox_inches = 'tight')\n",
        "\n",
        "# Displaying Chart\n",
        "plt.show()"
      ]
    },
    {
      "cell_type": "code",
      "execution_count": null,
      "metadata": {
        "id": "CaRkhJw00-C8"
      },
      "outputs": [],
      "source": [
        "all_words_def = []\n",
        "length = []\n",
        "\n",
        "for utterance in non_agent_sentences_def:\n",
        "    words = word_tokenize(str(utterance))\n",
        "    length.append(len(words))\n",
        "\n",
        "    for word in words:\n",
        "        all_words_def.append(word)\n",
        "\n",
        "print(all_words_def)\n",
        "print(f'Total words: {len(all_words_def)}.')"
      ]
    },
    {
      "cell_type": "code",
      "execution_count": null,
      "metadata": {
        "id": "h-dfVaze0-C8"
      },
      "outputs": [],
      "source": [
        "# prepare tokens for wordcloud\n",
        "wordcloud_text = ' '.join([element for element in all_words_def])\n",
        "print(type(wordcloud_text))"
      ]
    },
    {
      "cell_type": "code",
      "execution_count": null,
      "metadata": {
        "id": "CUBKwl4S0-C9"
      },
      "outputs": [],
      "source": [
        "wordcloud = WordCloud(width = 1800, height = 1000, background_color = 'white').generate(wordcloud_text)\n",
        "plt.imshow(wordcloud)\n",
        "plt.axis('off')\n",
        "\n",
        "# set filename\n",
        "filename = 'cloud_' + default_fallback_name + '.png'\n",
        "\n",
        "# save the plot as an image\n",
        "plt.savefig(filename, bbox_inches = 'tight')\n",
        "\n",
        "plt.show()"
      ]
    },
    {
      "cell_type": "code",
      "execution_count": null,
      "metadata": {
        "id": "njCmmR4W0-C9"
      },
      "outputs": [],
      "source": [
        "# Bag-of-words: top 20 key words\n",
        "bag_of_words = Counter(all_words_def)\n",
        "\n",
        "print('Most frequently used words are: ')\n",
        "top_fifty = Counter.most_common(bag_of_words, 20)\n",
        "\n",
        "# now printing as a list for better readability\n",
        "for word in top_fifty:\n",
        "  print(word)"
      ]
    },
    {
      "cell_type": "code",
      "execution_count": null,
      "metadata": {
        "id": "7plPpuZX0-C9"
      },
      "outputs": [],
      "source": [
        "# call bigram function\n",
        "bigrams(default_fallback_name, all_words_def, 25)"
      ]
    },
    {
      "cell_type": "code",
      "execution_count": null,
      "metadata": {
        "id": "_1eeMqGq0-C9"
      },
      "outputs": [],
      "source": [
        "# call trigram function\n",
        "trigrams(default_fallback_name, all_words_def, 25)"
      ]
    },
    {
      "cell_type": "markdown",
      "metadata": {
        "id": "C31iZY7t0-C9"
      },
      "source": [
        "## Topic Extraction"
      ]
    },
    {
      "cell_type": "code",
      "execution_count": null,
      "metadata": {
        "id": "mhDddtno59kg"
      },
      "outputs": [],
      "source": [
        "# declare topics\n",
        "Topic1 = 'ADD'\n",
        "Topic2 = 'ADD'\n",
        "Topic3 = 'ADD'\n",
        "Topic4 = 'ADD'\n",
        "Topic5 = 'ADD'\n",
        "Topic6 = 'ADD'\n",
        "\n",
        "default_df_extract = data_for_extraction[data_for_extraction['Intent']==default_fallback_name]\n",
        "default_df_extract.head()"
      ]
    },
    {
      "cell_type": "code",
      "execution_count": null,
      "metadata": {
        "id": "9w0ZKMK-59kg"
      },
      "outputs": [],
      "source": [
        "# extracts non-agent sentences from HF file\n",
        "agent_sentences_def_extract = []\n",
        "non_agent_sentences_def_extract = []\n",
        "# agent vs non agent utterances\n",
        "for utterance in default_df_extract['Clean']:\n",
        "    if 'assistant' in utterance or 'represent' in utterance or 'office' in utterance or 'corporate office' in utterance or 'customer service' in utterance or 'speak' in utterance or 'agent' in utterance or 'representative' in utterance or 'talk' in utterance or 'human' in utterance or 'analyst' in utterance or 'associate' in utterance or 'person' in utterance or 'support' in utterance or 'desk' in utterance or 'operator' in utterance or 'customer assistance' in utterance or 'assistance' in utterance or 'connect' in utterance or 'somebody' in utterance or 'someone' in utterance:\n",
        "        agent_sentences_def_extract.append(utterance)\n",
        "    else:\n",
        "        non_agent_sentences_def_extract.append(utterance)\n",
        "agent_count_def_extract = len(agent_sentences_def_extract)\n",
        "non_agent_count_def_extract = len(non_agent_sentences_def_extract)\n",
        "\n",
        "print(agent_count_def_extract)\n",
        "print(agent_sentences_def_extract)"
      ]
    },
    {
      "cell_type": "code",
      "execution_count": null,
      "metadata": {
        "id": "8fMGJXw959kg"
      },
      "outputs": [],
      "source": [
        "# create agent dataframe\n",
        "default_agent_df = pd.DataFrame(agent_sentences_def_extract, columns=['Clean'])\n",
        "default_agent_df['Original Intent'] = default_fallback_name\n",
        "default_agent_df = default_agent_df.drop_duplicates()\n",
        "default_agent_df['Recommended Action'] = 'Move training sentences to Agent Intent'\n",
        "default_agent_df.head()"
      ]
    },
    {
      "cell_type": "code",
      "execution_count": null,
      "metadata": {
        "id": "8ytu0MHF0-C9"
      },
      "outputs": [],
      "source": [
        "# creating non-agent sentences df\n",
        "default_non_agent_df = pd.DataFrame(non_agent_sentences_def_extract, columns=['Clean'])"
      ]
    },
    {
      "cell_type": "code",
      "execution_count": null,
      "metadata": {
        "id": "aP8JQOVP0-C9"
      },
      "outputs": [],
      "source": [
        "#find frequencies of top words and phrases in the top ngrams\n",
        "topic1_def = default_non_agent_df[default_non_agent_df['Clean'].str.contains(Topic1)]\n",
        "topic1_def.head()"
      ]
    },
    {
      "cell_type": "code",
      "execution_count": null,
      "metadata": {
        "id": "feH1ObtU0-C-"
      },
      "outputs": [],
      "source": [
        "topic1_def_count = topic1_def.shape[0]\n",
        "print(topic1_def_count)"
      ]
    },
    {
      "cell_type": "code",
      "execution_count": null,
      "metadata": {
        "id": "MMFVpa-f0-C-"
      },
      "outputs": [],
      "source": [
        "topic1_def['Original Intent'] = default_fallback_name\n",
        "topic1_def = topic1_def.drop_duplicates()\n",
        "topic1_def['Recommended Action'] = 'ADD'\n",
        "topic1_def.head()"
      ]
    },
    {
      "cell_type": "code",
      "execution_count": null,
      "metadata": {
        "id": "NCSQ8jxF0-C-"
      },
      "outputs": [],
      "source": [
        "#find frequencies of top words and phrases in the top ngrams\n",
        "topic2_def = default_non_agent_df[default_non_agent_df['Clean'].str.contains(Topic2)]\n",
        "topic2_def.head()"
      ]
    },
    {
      "cell_type": "code",
      "execution_count": null,
      "metadata": {
        "id": "CuCfu_BT0-C-"
      },
      "outputs": [],
      "source": [
        "topic2_def_count = topic2_def.shape[0]\n",
        "print(topic2_def_count)"
      ]
    },
    {
      "cell_type": "code",
      "execution_count": null,
      "metadata": {
        "id": "pGpvD1Mi0-C-"
      },
      "outputs": [],
      "source": [
        "topic2_def['Original Intent'] = default_fallback_name\n",
        "topic2_def = topic2_def.drop_duplicates()\n",
        "topic2_def['Recommended Action'] = 'ADD'\n",
        "topic2_def.head()"
      ]
    },
    {
      "cell_type": "code",
      "execution_count": null,
      "metadata": {
        "id": "d5pJcdwP0-C-"
      },
      "outputs": [],
      "source": [
        "#find frequencies of top words and phrases in the top ngrams\n",
        "topic3_def = default_non_agent_df[default_non_agent_df['Clean'].str.contains(Topic3)]\n",
        "topic3_def.head()"
      ]
    },
    {
      "cell_type": "code",
      "execution_count": null,
      "metadata": {
        "id": "uymAqpmE0-C-"
      },
      "outputs": [],
      "source": [
        "topic3_def_count = topic3_def.shape[0]\n",
        "print(topic3_def_count)"
      ]
    },
    {
      "cell_type": "code",
      "execution_count": null,
      "metadata": {
        "id": "3APrYCY90-C-"
      },
      "outputs": [],
      "source": [
        "topic3_def['Original Intent'] = default_fallback_name\n",
        "topic3_def = topic3_def.drop_duplicates()\n",
        "topic3_def['Recommended Action'] = 'ADD'\n",
        "topic3_def.head()"
      ]
    },
    {
      "cell_type": "code",
      "execution_count": null,
      "metadata": {
        "id": "EnLd1pXU0-C-"
      },
      "outputs": [],
      "source": [
        "#find frequencies of top words and phrases in the top ngrams\n",
        "topic4_def = default_non_agent_df[default_non_agent_df['Clean'].str.contains(Topic4)]\n",
        "topic4_def.head()"
      ]
    },
    {
      "cell_type": "code",
      "execution_count": null,
      "metadata": {
        "id": "aFdFo9sV0-C-"
      },
      "outputs": [],
      "source": [
        "topic4_def_count = topic4_def.shape[0]\n",
        "print(topic4_def_count)"
      ]
    },
    {
      "cell_type": "code",
      "execution_count": null,
      "metadata": {
        "id": "OJ1hAUED0-C-"
      },
      "outputs": [],
      "source": [
        "topic4_def['Original Intent'] = default_fallback_name\n",
        "topic4_def = topic4_def.drop_duplicates()\n",
        "topic4_def['Recommended Action'] = 'ADD'\n",
        "topic4_def.head()"
      ]
    },
    {
      "cell_type": "code",
      "execution_count": null,
      "metadata": {
        "id": "XH7vGLFo0-C_"
      },
      "outputs": [],
      "source": [
        "#find frequencies of top words and phrases in the top ngrams\n",
        "topic5_def = default_non_agent_df[default_non_agent_df['Clean'].str.contains(Topic5)]\n",
        "topic5_def.head()"
      ]
    },
    {
      "cell_type": "code",
      "execution_count": null,
      "metadata": {
        "id": "U2YG0j3x0-C_"
      },
      "outputs": [],
      "source": [
        "topic5_def_count = topic5_def.shape[0]\n",
        "print(topic5_def_count)"
      ]
    },
    {
      "cell_type": "code",
      "execution_count": null,
      "metadata": {
        "id": "90n9sF8s0-C_"
      },
      "outputs": [],
      "source": [
        "topic5_def['Original Intent'] = default_fallback_name\n",
        "topic5_def = topic5_def.drop_duplicates()\n",
        "topic5_def['Recommended Action'] = 'ADD'\n",
        "topic5_def.head()"
      ]
    },
    {
      "cell_type": "code",
      "execution_count": null,
      "metadata": {
        "id": "dF4-mjdG0-C_"
      },
      "outputs": [],
      "source": [
        "#find frequencies of top words and phrases in the top ngrams\n",
        "topic6_def = default_non_agent_df[default_non_agent_df['Clean'].str.contains(Topic6)]\n",
        "topic6_def.head()"
      ]
    },
    {
      "cell_type": "code",
      "execution_count": null,
      "metadata": {
        "id": "qooD7_1b0-C_"
      },
      "outputs": [],
      "source": [
        "topic6_def_count = topic6_def.shape[0]\n",
        "print(topic6_def_count)"
      ]
    },
    {
      "cell_type": "code",
      "execution_count": null,
      "metadata": {
        "id": "UBs3UvAk0-C_"
      },
      "outputs": [],
      "source": [
        "topic6_def['Original Intent'] = default_fallback_name\n",
        "topic6_def = topic6_def.drop_duplicates()\n",
        "topic6_def['Recommended Action'] = 'ADD'\n",
        "topic6_def.head()"
      ]
    },
    {
      "cell_type": "code",
      "execution_count": null,
      "metadata": {
        "id": "tud1jk3Q0-C_"
      },
      "outputs": [],
      "source": [
        "counts = [agent_count_def_extract, topic1_def_count, topic2_def_count, topic3_def_count, topic4_def_count, topic5_def_count, topic6_def_count]\n",
        "labels = ['agent transfer', Topic1, Topic2, Topic3, Topic4, Topic5, Topic6]\n",
        "\n",
        "# set height\n",
        "height = len(labels) * 0.5\n",
        "\n",
        "# set figure size\n",
        "plt.figure(figsize = (10, height))\n",
        "\n",
        "# create horizontal bar graph\n",
        "sns.barplot(x = counts, y = labels, palette = \"winter\")\n",
        "\n",
        "# set x and y labels\n",
        "plt.title(f'\\n{IVA}: Number of extracted utterances per topic going to {default_fallback_name}\\n', fontweight=\"bold\", fontsize = 14)\n",
        "plt.xlabel(\"\\nNumber of utterances\\n\", fontweight=\"bold\", fontsize = 12)\n",
        "plt.ylabel(\"\\nSuggested Topics\\n\", fontweight=\"bold\", fontsize = 12)\n",
        "plt.xticks(fontsize = 12)\n",
        "plt.yticks(fontsize = 12)\n",
        "\n",
        "# set filename\n",
        "filename = 'topic_count_' + default_fallback_name + '.png'\n",
        "\n",
        "# save the plot as an image\n",
        "plt.savefig(filename, bbox_inches = 'tight')\n",
        "\n",
        "# show the plot\n",
        "plt.show()"
      ]
    },
    {
      "cell_type": "code",
      "execution_count": null,
      "metadata": {
        "id": "g2QHYwj40-C_"
      },
      "outputs": [],
      "source": [
        "# creating df with undefined selected utterances\n",
        "def_selected = pd.concat([topic1_def, topic2_def, topic3_def, topic4_def, topic5_def, topic6_def], axis=0)\n",
        "def_selected.shape"
      ]
    },
    {
      "cell_type": "markdown",
      "metadata": {
        "id": "j9U0S4sM0-C_"
      },
      "source": [
        "# Agent Intent"
      ]
    },
    {
      "cell_type": "code",
      "execution_count": null,
      "metadata": {
        "id": "xDqYRjHj0-DA"
      },
      "outputs": [],
      "source": [
        "# Intent name\n",
        "agent_intent_name = 'ADD'\n",
        "\n",
        "agent_intent_df = data[data['Intent']==agent_intent_name]\n",
        "agent_intent_df.head()"
      ]
    },
    {
      "cell_type": "code",
      "execution_count": null,
      "metadata": {
        "id": "XyJ6Wwrt0-DA"
      },
      "outputs": [],
      "source": [
        "agent_intent_df_count = agent_intent_df.shape[0]\n",
        "print(agent_intent_df_count)"
      ]
    },
    {
      "cell_type": "code",
      "execution_count": null,
      "metadata": {
        "id": "JZQZQ2Or0-DA"
      },
      "outputs": [],
      "source": [
        "agent_sentences_ag = []\n",
        "non_agent_sentences_ag = []\n",
        "# agent vs non agent utterances\n",
        "for utterance in agent_intent_df['Utterance']:\n",
        "    if 'assistant' in utterance or 'represent' in utterance or 'office' in utterance or 'corporate office' in utterance or 'customer service' in utterance or 'speak' in utterance or 'agent' in utterance or 'representative' in utterance or 'talk' in utterance or 'human' in utterance or 'analyst' in utterance or 'associate' in utterance or 'person' in utterance or 'support' in utterance or 'desk' in utterance or 'operator' in utterance or 'customer assistance' in utterance or 'assistance' in utterance or 'connect' in utterance or 'somebody' in utterance or 'someone' in utterance:\n",
        "        agent_sentences_ag.append(utterance)\n",
        "    else:\n",
        "        non_agent_sentences_ag.append(utterance)\n",
        "agent_count_ag = len(agent_sentences_ag)\n",
        "non_agent_count_ag = len(non_agent_sentences_ag)\n",
        "\n",
        "print(agent_count_ag)\n",
        "print(agent_sentences_ag)"
      ]
    },
    {
      "cell_type": "code",
      "execution_count": null,
      "metadata": {
        "id": "SsV5_YZH0-DA"
      },
      "outputs": [],
      "source": [
        "sizes = [agent_count_ag, non_agent_count_ag]\n",
        "labels = ['Agent Transfer', 'All The Rest']\n",
        "\n",
        "# explosion\n",
        "explode = (0.05, 0.05)\n",
        "\n",
        "# Pie Chart\n",
        "plt.pie(sizes, colors=sns.color_palette('Set2'), labels=labels,\n",
        "        autopct='%1.1f%%', pctdistance=0.85,\n",
        "        explode=explode, textprops={'fontsize': 10})\n",
        "\n",
        "# draw circle\n",
        "centre_circle = plt.Circle((0, 0), 0.70, fc='white')\n",
        "fig = plt.gcf()\n",
        "\n",
        "# Adding Circle in Pie chart\n",
        "fig.gca().add_artist(centre_circle)\n",
        "\n",
        "# Adding Title of chart\n",
        "plt.title(f'{IVA}: {agent_intent_name}: Agent Transfer Requests')\n",
        "\n",
        "# Add Legends\n",
        "plt.legend(labels, loc=\"upper right\")\n",
        "\n",
        "# set filename\n",
        "filename = 'agent_count_' + agent_intent_name + '.png'\n",
        "\n",
        "# save the plot as an image\n",
        "plt.savefig(filename, bbox_inches = 'tight')\n",
        "\n",
        "# Displaying Chart\n",
        "plt.show()"
      ]
    },
    {
      "cell_type": "code",
      "execution_count": null,
      "metadata": {
        "id": "s9a3PaYG0-DA"
      },
      "outputs": [],
      "source": [
        "all_words_ag = []\n",
        "length = []\n",
        "\n",
        "for utterance in non_agent_sentences_ag:\n",
        "    words = word_tokenize(str(utterance))\n",
        "    length.append(len(words))\n",
        "\n",
        "    for word in words:\n",
        "        all_words_ag.append(word)\n",
        "\n",
        "print(all_words_ag)\n",
        "print(f'Total words: {len(all_words_ag)}.')"
      ]
    },
    {
      "cell_type": "code",
      "execution_count": null,
      "metadata": {
        "id": "9akD5hW60-DA"
      },
      "outputs": [],
      "source": [
        "# prepare tokens for wordcloud\n",
        "wordcloud_text = ' '.join([element for element in all_words_ag])\n",
        "print(type(wordcloud_text))"
      ]
    },
    {
      "cell_type": "code",
      "execution_count": null,
      "metadata": {
        "id": "iJfeQNzJ0-DA"
      },
      "outputs": [],
      "source": [
        "wordcloud = WordCloud(width = 1800, height = 1000, background_color = 'white').generate(wordcloud_text)\n",
        "plt.imshow(wordcloud)\n",
        "plt.axis('off')\n",
        "\n",
        "# set filename\n",
        "filename = 'cloud_' + agent_intent_name + '.png'\n",
        "\n",
        "# save the plot as an image\n",
        "plt.savefig(filename, bbox_inches = 'tight')\n",
        "\n",
        "plt.show()"
      ]
    },
    {
      "cell_type": "code",
      "execution_count": null,
      "metadata": {
        "id": "Yk8ldw_30-DB"
      },
      "outputs": [],
      "source": [
        "# Bag-of-words: top 20 key words\n",
        "bag_of_words = Counter(all_words_ag)\n",
        "\n",
        "print('Most frequently used words are: ')\n",
        "top_fifty = Counter.most_common(bag_of_words, 20)\n",
        "\n",
        "# now printing as a list for better readability\n",
        "for word in top_fifty:\n",
        "  print(word)"
      ]
    },
    {
      "cell_type": "code",
      "execution_count": null,
      "metadata": {
        "id": "YrPW9EKj0-DB"
      },
      "outputs": [],
      "source": [
        "# call bigram function\n",
        "bigrams(agent_intent_name, all_words_ag, 25)"
      ]
    },
    {
      "cell_type": "code",
      "execution_count": null,
      "metadata": {
        "id": "8hIxoRQT0-DB"
      },
      "outputs": [],
      "source": [
        "# call bigram function\n",
        "trigrams(agent_intent_name, all_words_ag, 25)"
      ]
    },
    {
      "cell_type": "markdown",
      "metadata": {
        "id": "PJ0KRR5f0-DB"
      },
      "source": [
        "## Topic Extraction"
      ]
    },
    {
      "cell_type": "code",
      "execution_count": null,
      "metadata": {
        "id": "Mpiiwbam59km"
      },
      "outputs": [],
      "source": [
        "# declare topics\n",
        "Topic1 = 'ADD'\n",
        "Topic2 = 'ADD'\n",
        "Topic3 = 'ADD'\n",
        "Topic4 = 'ADD'\n",
        "Topic5 = 'ADD'\n",
        "Topic6 = 'ADD'\n",
        "\n",
        "agent_intent_extract = data_for_extraction[data_for_extraction['Intent'] == agent_intent_name]\n",
        "agent_intent_extract.head()"
      ]
    },
    {
      "cell_type": "code",
      "execution_count": null,
      "metadata": {
        "id": "aWsC1AMl59km"
      },
      "outputs": [],
      "source": [
        "# extracts non-agent sentences from HF file\n",
        "agent_sentences_ag_extract = []\n",
        "non_agent_sentences_ag_extract = []\n",
        "# agent vs non agent utterances\n",
        "for utterance in agent_intent_extract['Clean']:\n",
        "    if 'assistant' in utterance or 'represent' in utterance or 'office' in utterance or 'corporate office' in utterance or 'customer service' in utterance or 'speak' in utterance or 'agent' in utterance or 'representative' in utterance or 'talk' in utterance or 'human' in utterance or 'analyst' in utterance or 'associate' in utterance or 'person' in utterance or 'support' in utterance or 'desk' in utterance or 'operator' in utterance or 'customer assistance' in utterance or 'assistance' in utterance or 'connect' in utterance or 'somebody' in utterance or 'someone' in utterance:\n",
        "        agent_sentences_ag_extract.append(utterance)\n",
        "    else:\n",
        "        non_agent_sentences_ag_extract.append(utterance)\n",
        "agent_count_ag_extract = len(agent_sentences_ag_extract)\n",
        "non_agent_count_ag_extract = len(non_agent_sentences_ag_extract)\n",
        "\n",
        "print(agent_count_ag_extract)\n",
        "print(agent_sentences_ag_extract)"
      ]
    },
    {
      "cell_type": "code",
      "execution_count": null,
      "metadata": {
        "id": "kyFhtaeQ0-DB"
      },
      "outputs": [],
      "source": [
        "# creating non-agent sentences df\n",
        "default_non_agent_ag = pd.DataFrame(non_agent_sentences_ag_extract, columns=['Clean'])"
      ]
    },
    {
      "cell_type": "code",
      "execution_count": null,
      "metadata": {
        "id": "fhdxWK_50-DB"
      },
      "outputs": [],
      "source": [
        "#find frequencies of top words and phrases in the top ngrams\n",
        "topic1_ag = default_non_agent_ag[default_non_agent_ag['Clean'].str.contains(Topic1)]\n",
        "topic1_ag.head()"
      ]
    },
    {
      "cell_type": "code",
      "execution_count": null,
      "metadata": {
        "id": "zCoStdhk0-DB"
      },
      "outputs": [],
      "source": [
        "topic1_ag_count = topic1_ag.shape[0]\n",
        "print(topic1_ag_count)"
      ]
    },
    {
      "cell_type": "code",
      "execution_count": null,
      "metadata": {
        "id": "QXR9DSZR0-DB"
      },
      "outputs": [],
      "source": [
        "topic1_ag['Original Intent'] = agent_intent_name\n",
        "topic1_ag = topic1_ag.drop_duplicates()\n",
        "topic1_ag['Recommended Action'] = 'ADD'\n",
        "topic1_ag.head()"
      ]
    },
    {
      "cell_type": "code",
      "execution_count": null,
      "metadata": {
        "id": "RqDI0aX10-DB"
      },
      "outputs": [],
      "source": [
        "#find frequencies of top words and phrases in the top ngrams\n",
        "topic2_ag = default_non_agent_ag[default_non_agent_ag['Clean'].str.contains(Topic2)]\n",
        "topic2_ag.head()"
      ]
    },
    {
      "cell_type": "code",
      "execution_count": null,
      "metadata": {
        "id": "veFGw67K0-DC"
      },
      "outputs": [],
      "source": [
        "topic2_ag_count = topic2_ag.shape[0]\n",
        "print(topic2_ag_count)"
      ]
    },
    {
      "cell_type": "code",
      "execution_count": null,
      "metadata": {
        "id": "C_-d_Yv-0-DC"
      },
      "outputs": [],
      "source": [
        "topic2_ag['Original Intent'] = agent_intent_name\n",
        "topic2_ag = topic2_ag.drop_duplicates()\n",
        "topic2_ag['Recommended Action'] = 'ADD'\n",
        "topic2_ag.head()"
      ]
    },
    {
      "cell_type": "code",
      "execution_count": null,
      "metadata": {
        "id": "21skekVP0-DC"
      },
      "outputs": [],
      "source": [
        "#find frequencies of top words and phrases in the top ngrams\n",
        "topic3_ag = default_non_agent_ag[default_non_agent_ag['Clean'].str.contains(Topic3)]\n",
        "topic3_ag.head()"
      ]
    },
    {
      "cell_type": "code",
      "execution_count": null,
      "metadata": {
        "id": "KYrZ3aKX0-DC"
      },
      "outputs": [],
      "source": [
        "topic3_ag_count = topic3_ag.shape[0]\n",
        "print(topic3_ag_count)"
      ]
    },
    {
      "cell_type": "code",
      "execution_count": null,
      "metadata": {
        "id": "DTF9tQZK0-DC"
      },
      "outputs": [],
      "source": [
        "topic3_ag['Original Intent'] = agent_intent_name\n",
        "topic3_ag = topic3_ag.drop_duplicates()\n",
        "topic3_ag['Recommended Action'] = 'ADD'\n",
        "topic3_ag.head()"
      ]
    },
    {
      "cell_type": "code",
      "execution_count": null,
      "metadata": {
        "id": "YzVNZRHV0-DC"
      },
      "outputs": [],
      "source": [
        "#find frequencies of top words and phrases in the top ngrams\n",
        "topic4_ag = default_non_agent_ag[default_non_agent_ag['Clean'].str.contains(Topic4)]\n",
        "topic4_ag.head()"
      ]
    },
    {
      "cell_type": "code",
      "execution_count": null,
      "metadata": {
        "id": "_NiaYJxL0-DC"
      },
      "outputs": [],
      "source": [
        "topic4_ag_count = topic4_ag.shape[0]\n",
        "print(topic4_ag_count)"
      ]
    },
    {
      "cell_type": "code",
      "execution_count": null,
      "metadata": {
        "id": "Jn3cDE560-DC"
      },
      "outputs": [],
      "source": [
        "topic4_ag['Original Intent'] = agent_intent_name\n",
        "topic4_ag = topic4_ag.drop_duplicates()\n",
        "topic4_ag['Recommended Action'] = 'ADD'\n",
        "topic4_ag.head()"
      ]
    },
    {
      "cell_type": "code",
      "execution_count": null,
      "metadata": {
        "id": "oIvFyaBY0-DC"
      },
      "outputs": [],
      "source": [
        "#find frequencies of top words and phrases in the top ngrams\n",
        "topic5_ag = default_non_agent_ag[default_non_agent_ag['Clean'].str.contains(Topic5)]\n",
        "topic5_ag.head()"
      ]
    },
    {
      "cell_type": "code",
      "execution_count": null,
      "metadata": {
        "id": "U8p0irce0-DC"
      },
      "outputs": [],
      "source": [
        "topic5_ag_count = topic5_ag.shape[0]\n",
        "print(topic5_ag_count)"
      ]
    },
    {
      "cell_type": "code",
      "execution_count": null,
      "metadata": {
        "id": "nRDatUQA0-DD"
      },
      "outputs": [],
      "source": [
        "topic5_ag['Original Intent'] = agent_intent_name\n",
        "topic5_ag = topic5_ag.drop_duplicates()\n",
        "topic5_ag['Recommended Action'] = 'ADD'\n",
        "topic5_ag.head()"
      ]
    },
    {
      "cell_type": "code",
      "execution_count": null,
      "metadata": {
        "id": "Bg5DE7s50-DD"
      },
      "outputs": [],
      "source": [
        "#find frequencies of top words and phrases in the top ngrams\n",
        "topic6_ag = default_non_agent_ag[default_non_agent_ag['Clean'].str.contains(Topic6)]\n",
        "topic6_ag.head()"
      ]
    },
    {
      "cell_type": "code",
      "execution_count": null,
      "metadata": {
        "id": "Ztx79Jul0-DD"
      },
      "outputs": [],
      "source": [
        "topic6_ag_count = topic6_ag.shape[0]\n",
        "print(topic6_ag_count)"
      ]
    },
    {
      "cell_type": "code",
      "execution_count": null,
      "metadata": {
        "id": "KTEWBssy0-DD"
      },
      "outputs": [],
      "source": [
        "topic6_ag['Original Intent'] = agent_intent_name\n",
        "topic6_ag = topic6_ag.drop_duplicates()\n",
        "topic6_ag['Recommended Action'] = 'ADD'\n",
        "topic6_ag.head()"
      ]
    },
    {
      "cell_type": "code",
      "execution_count": null,
      "metadata": {
        "id": "yVnQb86B0-DD"
      },
      "outputs": [],
      "source": [
        "counts = [topic1_ag_count, topic2_ag_count, topic3_ag_count, topic4_ag_count, topic5_ag_count, topic6_ag_count]\n",
        "labels = [Topic1, Topic2, Topic3, Topic4, Topic5, Topic6]\n",
        "\n",
        "# set height\n",
        "height = len(labels) * 0.75\n",
        "\n",
        "# set figure size\n",
        "plt.figure(figsize = (10, height))\n",
        "\n",
        "# create horizontal bar graph\n",
        "sns.barplot(x = counts, y = labels, palette = \"winter\")\n",
        "\n",
        "# set x and y labels\n",
        "plt.title(f'\\n{IVA}: Number of extracted utterances per topic going to {agent_intent_name}\\n', fontweight=\"bold\", fontsize = 14)\n",
        "plt.xlabel(\"\\nSuggested Topics\\n\", fontweight=\"bold\", fontsize = 12)\n",
        "plt.ylabel(\"\\nNumber of utterances\\n\", fontweight=\"bold\", fontsize = 12)\n",
        "plt.xticks(fontsize = 11)\n",
        "plt.yticks(fontsize = 11)\n",
        "\n",
        "# set filename\n",
        "filename = 'topic_count_' + agent_intent_name + '.png'\n",
        "\n",
        "# save the plot as an image\n",
        "plt.savefig(filename, bbox_inches = 'tight')\n",
        "\n",
        "# show the plot\n",
        "plt.show()"
      ]
    },
    {
      "cell_type": "code",
      "execution_count": null,
      "metadata": {
        "id": "CrYAfaS20-DD"
      },
      "outputs": [],
      "source": [
        "# creating df with undefined selected utterances\n",
        "ag_selected = pd.concat([topic1_ag, topic2_ag, topic3_ag, topic4_ag, topic5_ag, topic6_ag], axis=0)\n",
        "ag_selected.shape"
      ]
    },
    {
      "cell_type": "markdown",
      "metadata": {
        "id": "FiEqUt9U0-DD"
      },
      "source": [
        "# Intent of Interest 1"
      ]
    },
    {
      "cell_type": "code",
      "execution_count": null,
      "metadata": {
        "id": "1oMtrD480-DD"
      },
      "outputs": [],
      "source": [
        "# Intent name\n",
        "intent1_name = 'ADD'\n",
        "\n",
        "intent1_df = data[data['Intent'] == intent1_name]\n",
        "intent1_df.head()"
      ]
    },
    {
      "cell_type": "code",
      "execution_count": null,
      "metadata": {
        "id": "KPGLy7ez0-DD"
      },
      "outputs": [],
      "source": [
        "intent1_df_count = intent1_df.shape[0]\n",
        "print(intent1_df_count)"
      ]
    },
    {
      "cell_type": "code",
      "execution_count": null,
      "metadata": {
        "id": "npZkkteZ0-DE"
      },
      "outputs": [],
      "source": [
        "agent_sentences_int1 = []\n",
        "non_agent_sentences_int1 = []\n",
        "# agent vs non agent utterances\n",
        "for utterance in intent1_df['Utterance']:\n",
        "    if 'assistant' in utterance or 'represent' in utterance or 'office' in utterance or 'corporate office' in utterance or 'customer service' in utterance or 'speak' in utterance or 'agent' in utterance or 'representative' in utterance or 'talk' in utterance or 'human' in utterance or 'analyst' in utterance or 'associate' in utterance or 'person' in utterance or 'support' in utterance or 'desk' in utterance or 'operator' in utterance or 'customer assistance' in utterance or 'assistance' in utterance or 'connect' in utterance or 'somebody' in utterance or 'someone' in utterance:\n",
        "        agent_sentences_int1.append(utterance)\n",
        "    else:\n",
        "        non_agent_sentences_int1.append(utterance)\n",
        "agent_count_int1 = len(agent_sentences_int1)\n",
        "non_agent_count_int1 = len(non_agent_sentences_int1)\n",
        "\n",
        "print(agent_count_int1)\n",
        "print(agent_sentences_int1)"
      ]
    },
    {
      "cell_type": "code",
      "execution_count": null,
      "metadata": {
        "id": "zRIJvOO30-DE"
      },
      "outputs": [],
      "source": [
        "sizes = [agent_count_int1, non_agent_count_int1]\n",
        "labels = ['Agent Transfer', 'All The Rest']\n",
        "\n",
        "# explosion\n",
        "explode = (0.05, 0.05)\n",
        "\n",
        "# Pie Chart\n",
        "plt.pie(sizes, colors=sns.color_palette('Set2'), labels=labels,\n",
        "        autopct='%1.1f%%', pctdistance=0.85,\n",
        "        explode=explode, textprops={'fontsize': 10})\n",
        "\n",
        "# draw circle\n",
        "centre_circle = plt.Circle((0, 0), 0.70, fc='white')\n",
        "fig = plt.gcf()\n",
        "\n",
        "# Adding Circle in Pie chart\n",
        "fig.gca().add_artist(centre_circle)\n",
        "\n",
        "# Adding Title of chart\n",
        "plt.title(f'{IVA}: {intent1_name}: Agent Transfer Requests')\n",
        "\n",
        "# Add Legends\n",
        "plt.legend(labels, loc=\"lower right\")\n",
        "\n",
        "# set filename\n",
        "filename = 'agent_count_' + intent1_name + '.png'\n",
        "\n",
        "# save the plot as an image\n",
        "plt.savefig(filename, bbox_inches = 'tight')\n",
        "\n",
        "# Displaying Chart\n",
        "plt.show()"
      ]
    },
    {
      "cell_type": "code",
      "execution_count": null,
      "metadata": {
        "id": "C50TdIb20-DE"
      },
      "outputs": [],
      "source": [
        "all_words_int1 = []\n",
        "length = []\n",
        "\n",
        "for utterance in non_agent_sentences_int1:\n",
        "    words = word_tokenize(str(utterance))\n",
        "    length.append(len(words))\n",
        "\n",
        "    for word in words:\n",
        "        all_words_int1.append(word)\n",
        "\n",
        "print(all_words_int1)\n",
        "print(f'Total words: {len(all_words_int1)}.')"
      ]
    },
    {
      "cell_type": "code",
      "execution_count": null,
      "metadata": {
        "id": "D32VNzaV0-DE"
      },
      "outputs": [],
      "source": [
        "# prepare tokens for wordcloud\n",
        "wordcloud_text = ' '.join([element for element in all_words_int1])\n",
        "print(type(wordcloud_text))"
      ]
    },
    {
      "cell_type": "code",
      "execution_count": null,
      "metadata": {
        "id": "rzyIS7P-0-DE"
      },
      "outputs": [],
      "source": [
        "wordcloud = WordCloud(width = 1800, height = 1000, background_color = 'white').generate(wordcloud_text)\n",
        "plt.imshow(wordcloud)\n",
        "plt.axis('off')\n",
        "\n",
        "# set filename\n",
        "filename = 'cloud_' + intent1_name + '.png'\n",
        "\n",
        "# save the plot as an image\n",
        "plt.savefig(filename, bbox_inches = 'tight')\n",
        "\n",
        "plt.show()"
      ]
    },
    {
      "cell_type": "code",
      "execution_count": null,
      "metadata": {
        "id": "rgVGOHhf0-DE"
      },
      "outputs": [],
      "source": [
        "# Bag-of-words: top 20 key words\n",
        "bag_of_words = Counter(all_words_int1)\n",
        "\n",
        "print('Most frequently used words are: ')\n",
        "top_fifty = Counter.most_common(bag_of_words, 20)\n",
        "\n",
        "# now printing as a list for better readability\n",
        "for word in top_fifty:\n",
        "  print(word)"
      ]
    },
    {
      "cell_type": "code",
      "execution_count": null,
      "metadata": {
        "id": "jDRA2SaQ0-DF"
      },
      "outputs": [],
      "source": [
        "# call bigram function\n",
        "bigrams(intent1_name, all_words_int1, 25)"
      ]
    },
    {
      "cell_type": "code",
      "execution_count": null,
      "metadata": {
        "id": "dJndjZk00-DF"
      },
      "outputs": [],
      "source": [
        "# call trigram function\n",
        "trigrams(intent1_name, all_words_int1, 25)"
      ]
    },
    {
      "cell_type": "markdown",
      "metadata": {
        "id": "uR88Bz7W0-DF"
      },
      "source": [
        "## Topic Extraction"
      ]
    },
    {
      "cell_type": "code",
      "execution_count": null,
      "metadata": {
        "id": "9OIsGgmV59ks"
      },
      "outputs": [],
      "source": [
        "# declare topics\n",
        "Topic1 = 'ADD'\n",
        "Topic2 = 'ADD'\n",
        "Topic3 = 'ADD'\n",
        "Topic4 = 'ADD'\n",
        "Topic5 = 'ADD'\n",
        "Topic6 = 'ADD'\n",
        "\n",
        "intent1_df_extract = data_for_extraction[data_for_extraction['Intent'] == intent1_name]\n",
        "intent1_df_extract.head()"
      ]
    },
    {
      "cell_type": "code",
      "execution_count": null,
      "metadata": {
        "id": "Fnoq15lJ59ks"
      },
      "outputs": [],
      "source": [
        "# extracts non-agent sentences from HF file\n",
        "agent_sentences_int1_extract = []\n",
        "non_agent_sentences_int1_extract = []\n",
        "# agent vs non agent utterances\n",
        "for utterance in intent1_df_extract['Clean']:\n",
        "    if 'assistant' in utterance or 'represent' in utterance or 'office' in utterance or 'corporate office' in utterance or 'customer service' in utterance or 'speak' in utterance or 'agent' in utterance or 'representative' in utterance or 'talk' in utterance or 'human' in utterance or 'analyst' in utterance or 'associate' in utterance or 'person' in utterance or 'support' in utterance or 'desk' in utterance or 'operator' in utterance or 'customer assistance' in utterance or 'assistance' in utterance or 'connect' in utterance or 'somebody' in utterance or 'someone' in utterance:\n",
        "        agent_sentences_int1_extract.append(utterance)\n",
        "    else:\n",
        "        non_agent_sentences_int1_extract.append(utterance)\n",
        "agent_count_int1_extract = len(agent_sentences_int1_extract)\n",
        "non_agent_count_int1_extract = len(non_agent_sentences_int1_extract)\n",
        "\n",
        "print(agent_count_int1_extract)\n",
        "print(agent_sentences_int1_extract)"
      ]
    },
    {
      "cell_type": "code",
      "execution_count": null,
      "metadata": {
        "id": "DFvO6Aj159ks"
      },
      "outputs": [],
      "source": [
        "# create agent dataframe\n",
        "default_agent_int1 = pd.DataFrame(agent_sentences_int1_extract, columns=['Clean'])\n",
        "default_agent_int1['Original Intent'] = intent1_name\n",
        "default_agent_int1 = default_agent_int1.drop_duplicates()\n",
        "default_agent_int1['Recommended Action'] = 'Move to Agent Intent'\n",
        "default_agent_int1.head()"
      ]
    },
    {
      "cell_type": "code",
      "execution_count": null,
      "metadata": {
        "id": "767rznGN0-DF"
      },
      "outputs": [],
      "source": [
        "# creating non-agent sentences df\n",
        "default_non_agent_int1 = pd.DataFrame(non_agent_sentences_int1_extract, columns=['Clean'])"
      ]
    },
    {
      "cell_type": "code",
      "execution_count": null,
      "metadata": {
        "id": "WoUovhmc0-DF"
      },
      "outputs": [],
      "source": [
        "#find frequencies of top words and phrases in the top ngrams\n",
        "topic1_int1 = default_non_agent_int1[default_non_agent_int1['Clean'].str.contains(Topic1)]\n",
        "topic1_int1.head()"
      ]
    },
    {
      "cell_type": "code",
      "execution_count": null,
      "metadata": {
        "id": "gix9qA950-DF"
      },
      "outputs": [],
      "source": [
        "topic1_int1_count = topic1_int1.shape[0]\n",
        "print(topic1_int1_count)"
      ]
    },
    {
      "cell_type": "code",
      "execution_count": null,
      "metadata": {
        "id": "U9bbmyH_0-DF"
      },
      "outputs": [],
      "source": [
        "topic1_int1['Original Intent'] = intent1_name\n",
        "topic1_int1 = topic1_int1.drop_duplicates()\n",
        "topic1_int1['Recommended Action'] = 'ADD'\n",
        "topic1_int1.head()"
      ]
    },
    {
      "cell_type": "code",
      "execution_count": null,
      "metadata": {
        "id": "z8h4v42M0-DF"
      },
      "outputs": [],
      "source": [
        "#find frequencies of top words and phrases in the top ngrams\n",
        "topic2_int1 = default_non_agent_int1[default_non_agent_int1['Clean'].str.contains(Topic2)]\n",
        "topic2_int1.head()"
      ]
    },
    {
      "cell_type": "code",
      "execution_count": null,
      "metadata": {
        "id": "S0ke9kQu0-DF"
      },
      "outputs": [],
      "source": [
        "topic2_int1_count = topic2_int1.shape[0]\n",
        "print(topic2_int1_count)"
      ]
    },
    {
      "cell_type": "code",
      "execution_count": null,
      "metadata": {
        "id": "YkkZ0zUs0-DG"
      },
      "outputs": [],
      "source": [
        "topic2_int1['Original Intent'] = intent1_name\n",
        "topic2_int1 = topic2_int1.drop_duplicates()\n",
        "topic2_int1['Recommended Action'] = 'ADD'\n",
        "topic2_int1.head()"
      ]
    },
    {
      "cell_type": "code",
      "execution_count": null,
      "metadata": {
        "id": "W2EZkoW60-DG"
      },
      "outputs": [],
      "source": [
        "#find frequencies of top words and phrases in the top ngrams\n",
        "topic3_int1 = default_non_agent_int1[default_non_agent_int1['Clean'].str.contains(Topic3)]\n",
        "topic3_int1.head()"
      ]
    },
    {
      "cell_type": "code",
      "execution_count": null,
      "metadata": {
        "id": "iOm8WjmX0-DG"
      },
      "outputs": [],
      "source": [
        "topic3_int1_count = topic3_int1.shape[0]\n",
        "print(topic3_int1_count)"
      ]
    },
    {
      "cell_type": "code",
      "execution_count": null,
      "metadata": {
        "id": "7IyDCk3_0-DG"
      },
      "outputs": [],
      "source": [
        "topic3_int1['Original Intent'] = intent1_name\n",
        "topic3_int1 = topic3_int1.drop_duplicates()\n",
        "topic3_int1['Recommended Action'] = 'ADD'\n",
        "topic3_int1.head()"
      ]
    },
    {
      "cell_type": "code",
      "execution_count": null,
      "metadata": {
        "id": "vuLUB65x0-DG"
      },
      "outputs": [],
      "source": [
        "#find frequencies of top words and phrases in the top ngrams\n",
        "topic4_int1 = default_non_agent_int1[default_non_agent_int1['Clean'].str.contains(Topic4)]\n",
        "topic4_int1.head()"
      ]
    },
    {
      "cell_type": "code",
      "execution_count": null,
      "metadata": {
        "id": "GycXLfBw0-DG"
      },
      "outputs": [],
      "source": [
        "topic4_int1_count = topic4_int1.shape[0]\n",
        "print(topic4_int1_count)"
      ]
    },
    {
      "cell_type": "code",
      "execution_count": null,
      "metadata": {
        "id": "F8p0DAVP0-DG"
      },
      "outputs": [],
      "source": [
        "topic4_int1['Original Intent'] = intent1_name\n",
        "topic4_int1 = topic4_int1.drop_duplicates()\n",
        "topic4_int1['Recommended Action'] = 'ADD'\n",
        "topic4_int1.head()"
      ]
    },
    {
      "cell_type": "code",
      "execution_count": null,
      "metadata": {
        "id": "Wg-fBsi_0-DG"
      },
      "outputs": [],
      "source": [
        "#find frequencies of top words and phrases in the top ngrams\n",
        "topic5_int1 = default_non_agent_int1[default_non_agent_int1['Clean'].str.contains(Topic5)]\n",
        "topic5_int1.head()"
      ]
    },
    {
      "cell_type": "code",
      "execution_count": null,
      "metadata": {
        "id": "LzgNjtBS0-DG"
      },
      "outputs": [],
      "source": [
        "topic5_int1_count = topic5_int1.shape[0]\n",
        "print(topic5_int1_count)"
      ]
    },
    {
      "cell_type": "code",
      "execution_count": null,
      "metadata": {
        "id": "_g8LgPMC0-DG"
      },
      "outputs": [],
      "source": [
        "topic5_int1['Original Intent'] = intent1_name\n",
        "topic5_int1 = topic5_int1.drop_duplicates()\n",
        "topic5_int1['Recommended Action'] = 'ADD'\n",
        "topic5_int1.head()"
      ]
    },
    {
      "cell_type": "code",
      "execution_count": null,
      "metadata": {
        "id": "fgj40ObE0-DH"
      },
      "outputs": [],
      "source": [
        "#find frequencies of top words and phrases in the top ngrams\n",
        "topic6_int1 = default_non_agent_int1[default_non_agent_int1['Clean'].str.contains(Topic6)]\n",
        "topic6_int1.head()"
      ]
    },
    {
      "cell_type": "code",
      "execution_count": null,
      "metadata": {
        "id": "GDQ7GCjL0-DH"
      },
      "outputs": [],
      "source": [
        "topic6_int1_count = topic6_int1.shape[0]\n",
        "print(topic6_int1_count)"
      ]
    },
    {
      "cell_type": "code",
      "execution_count": null,
      "metadata": {
        "id": "b0mlM3Db0-DH"
      },
      "outputs": [],
      "source": [
        "topic6_int1['Original Intent'] = intent1_name\n",
        "topic6_int1 = topic6_int1.drop_duplicates()\n",
        "topic6_int1['Recommended Action'] = 'ADD'\n",
        "topic6_int1.head()"
      ]
    },
    {
      "cell_type": "code",
      "execution_count": null,
      "metadata": {
        "id": "2V3pXMWF0-DH"
      },
      "outputs": [],
      "source": [
        "counts = [agent_count_int1, topic1_int1_count, topic2_int1_count, topic3_int1_count, topic4_int1_count, topic5_int1_count, topic6_int1_count]\n",
        "labels = ['Agent Transfer', Topic1, Topic2, Topic3, Topic4, Topic5, Topic6]\n",
        "\n",
        "# set height\n",
        "height = len(labels) * 0.75\n",
        "\n",
        "# set figure size\n",
        "plt.figure(figsize = (10, height))\n",
        "\n",
        "# create horizontal bar graph\n",
        "sns.barplot(x = counts, y = labels, palette = \"winter\")\n",
        "\n",
        "# set x and y labels\n",
        "plt.title(f'\\n{IVA}: Number of extracted utterances per topic going to {intent1_name}\\n', fontweight=\"bold\", fontsize = 14)\n",
        "plt.xlabel(\"\\nSuggested Topics\\n\", fontweight=\"bold\", fontsize = 12)\n",
        "plt.ylabel(\"\\nNumber of utterances\\n\", fontweight=\"bold\", fontsize = 12)\n",
        "plt.xticks(fontsize = 11)\n",
        "plt.yticks(fontsize = 11)\n",
        "\n",
        "# set filename\n",
        "filename = 'topic_count_' + intent1_name + '.png'\n",
        "\n",
        "# save the plot as an image\n",
        "plt.savefig(filename, bbox_inches = 'tight')\n",
        "\n",
        "# show the plot\n",
        "plt.show()"
      ]
    },
    {
      "cell_type": "code",
      "execution_count": null,
      "metadata": {
        "id": "O2kihc2N0-DH"
      },
      "outputs": [],
      "source": [
        "# creating df with undefined selected utterances\n",
        "int1_selected = pd.concat([default_agent_int1, topic1_int1, topic2_int1, topic3_int1, topic4_int1, topic5_int1, topic6_int1], axis=0)\n",
        "int1_selected.shape"
      ]
    },
    {
      "cell_type": "markdown",
      "metadata": {
        "id": "9436Rws60-DH"
      },
      "source": [
        "# Intent of Interest 2"
      ]
    },
    {
      "cell_type": "code",
      "execution_count": null,
      "metadata": {
        "id": "eFxoKvzw0-DH"
      },
      "outputs": [],
      "source": [
        "# Intent name\n",
        "intent2_name = 'ADD'\n",
        "\n",
        "intent2_df = data[data['Intent'] == intent2_name]\n",
        "intent2_df.head()"
      ]
    },
    {
      "cell_type": "code",
      "execution_count": null,
      "metadata": {
        "id": "WM7mh57V59kv"
      },
      "outputs": [],
      "source": [
        "# extracts non-agent sentences from HF file\n",
        "agent_sentences_int2 = []\n",
        "non_agent_sentences_int2 = []\n",
        "# agent vs non agent utterances\n",
        "for utterance in intent2_df['Utterance']:\n",
        "    if 'assistant' in utterance or 'represent' in utterance or 'office' in utterance or 'corporate office' in utterance or 'customer service' in utterance or 'speak' in utterance or 'agent' in utterance or 'representative' in utterance or 'talk' in utterance or 'human' in utterance or 'analyst' in utterance or 'associate' in utterance or 'person' in utterance or 'support' in utterance or 'desk' in utterance or 'operator' in utterance or 'customer assistance' in utterance or 'assistance' in utterance or 'connect' in utterance or 'somebody' in utterance or 'someone' in utterance:\n",
        "        agent_sentences_int2.append(utterance)\n",
        "    else:\n",
        "        non_agent_sentences_int2.append(utterance)\n",
        "agent_count_int2 = len(agent_sentences_int2)\n",
        "non_agent_count_int2 = len(non_agent_sentences_int2)\n",
        "\n",
        "print(agent_count_int2)\n",
        "print(agent_sentences_int2)"
      ]
    },
    {
      "cell_type": "code",
      "execution_count": null,
      "metadata": {
        "id": "Zq6u_01W0-DH"
      },
      "outputs": [],
      "source": [
        "intent2_df_count = intent2_df.shape[0]\n",
        "print(intent2_df_count)"
      ]
    },
    {
      "cell_type": "code",
      "execution_count": null,
      "metadata": {
        "id": "u-lq5MUr0-DI"
      },
      "outputs": [],
      "source": [
        "sizes = [agent_count_int2, non_agent_count_int2]\n",
        "labels = ['Agent Transfer', 'All The Rest']\n",
        "\n",
        "# explosion\n",
        "explode = (0.05, 0.05)\n",
        "\n",
        "# Pie Chart\n",
        "plt.pie(sizes, colors=sns.color_palette('Set2'), labels=labels,\n",
        "        autopct='%1.1f%%', pctdistance=0.85,\n",
        "        explode=explode, textprops={'fontsize': 10})\n",
        "\n",
        "# draw circle\n",
        "centre_circle = plt.Circle((0, 0), 0.70, fc='white')\n",
        "fig = plt.gcf()\n",
        "\n",
        "# Adding Circle in Pie chart\n",
        "fig.gca().add_artist(centre_circle)\n",
        "\n",
        "# Adding Title of chart\n",
        "plt.title(f'{IVA}: {intent2_name}: Agent Transfer Requests')\n",
        "\n",
        "# Add Legends\n",
        "plt.legend(labels, loc=\"upper right\")\n",
        "\n",
        "# set filename\n",
        "filename = 'agent_count_' + intent2_name + '.png'\n",
        "\n",
        "# save the plot as an image\n",
        "plt.savefig(filename, bbox_inches = 'tight')\n",
        "\n",
        "# Displaying Chart\n",
        "plt.show()"
      ]
    },
    {
      "cell_type": "code",
      "execution_count": null,
      "metadata": {
        "id": "JQLVOH4Y0-DI"
      },
      "outputs": [],
      "source": [
        "all_words_int2 = []\n",
        "length = []\n",
        "\n",
        "for utterance in non_agent_sentences_int2:\n",
        "    words = word_tokenize(str(utterance))\n",
        "    length.append(len(words))\n",
        "\n",
        "    for word in words:\n",
        "        all_words_int2.append(word)\n",
        "\n",
        "print(all_words_int2)\n",
        "print(f'Total words: {len(all_words_int2)}.')"
      ]
    },
    {
      "cell_type": "code",
      "execution_count": null,
      "metadata": {
        "id": "8On9ahkA0-DI"
      },
      "outputs": [],
      "source": [
        "# prepare tokens for wordcloud\n",
        "wordcloud_text = ' '.join([element for element in all_words_int2])\n",
        "print(type(wordcloud_text))"
      ]
    },
    {
      "cell_type": "code",
      "execution_count": null,
      "metadata": {
        "id": "6cVlo-dC0-DI"
      },
      "outputs": [],
      "source": [
        "wordcloud = WordCloud(width = 1800, height = 1000, background_color = 'white').generate(wordcloud_text)\n",
        "plt.imshow(wordcloud)\n",
        "plt.axis('off')\n",
        "\n",
        "# set filename\n",
        "filename = 'cloud_' + intent2_name + '.png'\n",
        "\n",
        "# save the plot as an image\n",
        "plt.savefig(filename, bbox_inches = 'tight')\n",
        "\n",
        "plt.show()"
      ]
    },
    {
      "cell_type": "code",
      "execution_count": null,
      "metadata": {
        "id": "sfKoRZS_0-DI"
      },
      "outputs": [],
      "source": [
        "# Bag-of-words: top 20 key words\n",
        "bag_of_words = Counter(all_words_int2)\n",
        "\n",
        "print('Most frequently used words are: ')\n",
        "top_fifty = Counter.most_common(bag_of_words, 20)\n",
        "\n",
        "# now printing as a list for better readability\n",
        "for word in top_fifty:\n",
        "  print(word)"
      ]
    },
    {
      "cell_type": "code",
      "execution_count": null,
      "metadata": {
        "id": "IxViGN9X0-DI"
      },
      "outputs": [],
      "source": [
        "# call bigram function\n",
        "bigrams(intent2_name, all_words_int2, 25)"
      ]
    },
    {
      "cell_type": "code",
      "execution_count": null,
      "metadata": {
        "id": "f5HyXUYE0-DI"
      },
      "outputs": [],
      "source": [
        "# call trigram function\n",
        "trigrams(intent2_name, all_words_int2, 25)"
      ]
    },
    {
      "cell_type": "markdown",
      "metadata": {
        "id": "UEtLnsVO0-DI"
      },
      "source": [
        "## Topic Extraction"
      ]
    },
    {
      "cell_type": "code",
      "execution_count": null,
      "metadata": {
        "id": "NQ0zGhWa59kx"
      },
      "outputs": [],
      "source": [
        "# declare topics\n",
        "Topic1 = 'ADD'\n",
        "Topic2 = 'ADD'\n",
        "Topic3 = 'ADD'\n",
        "Topic4 = 'ADD'\n",
        "Topic5 = 'ADD'\n",
        "Topic6 = 'ADD'\n",
        "\n",
        "intent2_df_extract = data_for_extraction[data_for_extraction['Intent'] == intent2_name]\n",
        "intent2_df_extract.head()"
      ]
    },
    {
      "cell_type": "code",
      "execution_count": null,
      "metadata": {
        "id": "H1twWKZ159kx"
      },
      "outputs": [],
      "source": [
        "agent_sentences_int2_extract = []\n",
        "non_agent_sentences_int2_extract = []\n",
        "# agent vs non agent utterances\n",
        "for utterance in intent2_df_extract['Clean']:\n",
        "    if 'assistant' in utterance or 'represent' in utterance or 'office' in utterance or 'corporate office' in utterance or 'customer service' in utterance or 'speak' in utterance or 'agent' in utterance or 'representative' in utterance or 'talk' in utterance or 'human' in utterance or 'analyst' in utterance or 'associate' in utterance or 'person' in utterance or 'support' in utterance or 'desk' in utterance or 'operator' in utterance or 'customer assistance' in utterance or 'assistance' in utterance or 'connect' in utterance or 'somebody' in utterance or 'someone' in utterance:\n",
        "        agent_sentences_int2_extract.append(utterance)\n",
        "    else:\n",
        "        non_agent_sentences_int2_extract.append(utterance)\n",
        "agent_count_int2_extract = len(agent_sentences_int2_extract)\n",
        "non_agent_count_int2_extract = len(non_agent_sentences_int2_extract)\n",
        "\n",
        "print(agent_count_int2_extract)\n",
        "print(agent_sentences_int2_extract)"
      ]
    },
    {
      "cell_type": "code",
      "execution_count": null,
      "metadata": {
        "id": "rCf4ERe859kx"
      },
      "outputs": [],
      "source": [
        "# create agent dataframe\n",
        "default_agent_int2 = pd.DataFrame(agent_sentences_int2_extract, columns=['Clean'])\n",
        "default_agent_int2['Original Intent'] = intent1_name\n",
        "default_agent_int2 = default_agent_int2.drop_duplicates()\n",
        "default_agent_int2['Recommended Action'] = 'Move to Agent Intent'\n",
        "default_agent_int2.head()"
      ]
    },
    {
      "cell_type": "code",
      "execution_count": null,
      "metadata": {
        "id": "qjFyWyAf0-DJ"
      },
      "outputs": [],
      "source": [
        "# creating non-agent sentences df\n",
        "default_non_agent_int2 = pd.DataFrame(non_agent_sentences_int2_extract, columns=['Clean'])"
      ]
    },
    {
      "cell_type": "code",
      "execution_count": null,
      "metadata": {
        "id": "SIvPbaGL0-DJ"
      },
      "outputs": [],
      "source": [
        "#find frequencies of top words and phrases in the top ngrams\n",
        "topic1_int2 = default_non_agent_int2[default_non_agent_int2['Clean'].str.contains(Topic1)]\n",
        "topic1_int2.head()"
      ]
    },
    {
      "cell_type": "code",
      "execution_count": null,
      "metadata": {
        "id": "7kQgXU_90-DJ"
      },
      "outputs": [],
      "source": [
        "topic1_int2_count = topic1_int2.shape[0]\n",
        "print(topic1_int2_count)"
      ]
    },
    {
      "cell_type": "code",
      "execution_count": null,
      "metadata": {
        "id": "xpFgwnVb0-DJ"
      },
      "outputs": [],
      "source": [
        "topic1_int2['Original Intent'] = intent2_name\n",
        "topic1_int2 = topic1_int2.drop_duplicates()\n",
        "topic1_int2['Recommended Action'] = 'ADD'\n",
        "topic1_int2.head()"
      ]
    },
    {
      "cell_type": "code",
      "execution_count": null,
      "metadata": {
        "id": "UrOvy3YT0-DJ"
      },
      "outputs": [],
      "source": [
        "#find frequencies of top words and phrases in the top ngrams\n",
        "topic2_int2 = default_non_agent_int2[default_non_agent_int2['Clean'].str.contains(Topic2)]\n",
        "topic2_int2.head()"
      ]
    },
    {
      "cell_type": "code",
      "execution_count": null,
      "metadata": {
        "id": "c9x7PTTu0-DJ"
      },
      "outputs": [],
      "source": [
        "topic2_int2_count = topic2_int2.shape[0]\n",
        "print(topic2_int2_count)"
      ]
    },
    {
      "cell_type": "code",
      "execution_count": null,
      "metadata": {
        "id": "SciFTcPn0-DJ"
      },
      "outputs": [],
      "source": [
        "topic2_int2['Original Intent'] = intent2_name\n",
        "topic2_int2 = topic2_int2.drop_duplicates()\n",
        "topic2_int2['Recommended Action'] = 'ADD'\n",
        "topic2_int2.head()"
      ]
    },
    {
      "cell_type": "code",
      "execution_count": null,
      "metadata": {
        "id": "bQ8YZwAk0-DJ"
      },
      "outputs": [],
      "source": [
        "#find frequencies of top words and phrases in the top ngrams\n",
        "topic3_int2 = default_non_agent_int2[default_non_agent_int2['Clean'].str.contains(Topic3)]\n",
        "topic3_int2.head()"
      ]
    },
    {
      "cell_type": "code",
      "execution_count": null,
      "metadata": {
        "id": "U25qHEyM0-DJ"
      },
      "outputs": [],
      "source": [
        "topic3_int2_count = topic3_int2.shape[0]\n",
        "print(topic3_int2_count)"
      ]
    },
    {
      "cell_type": "code",
      "execution_count": null,
      "metadata": {
        "id": "PeHJydFv0-DJ"
      },
      "outputs": [],
      "source": [
        "topic3_int2['Original Intent'] = intent2_name\n",
        "topic3_int2 = topic3_int2.drop_duplicates()\n",
        "topic3_int2['Recommended Action'] = 'ADD'\n",
        "topic3_int2.head()"
      ]
    },
    {
      "cell_type": "code",
      "execution_count": null,
      "metadata": {
        "id": "lzl496iG0-DK"
      },
      "outputs": [],
      "source": [
        "#find frequencies of top words and phrases in the top ngrams\n",
        "topic4_int2 = default_non_agent_int2[default_non_agent_int2['Clean'].str.contains(Topic4)]\n",
        "topic4_int2.head()"
      ]
    },
    {
      "cell_type": "code",
      "execution_count": null,
      "metadata": {
        "id": "_5lTwwwG0-DK"
      },
      "outputs": [],
      "source": [
        "topic4_int2_count = topic4_int2.shape[0]\n",
        "print(topic4_int2_count)"
      ]
    },
    {
      "cell_type": "code",
      "execution_count": null,
      "metadata": {
        "id": "PjDHG9K20-DK"
      },
      "outputs": [],
      "source": [
        "topic4_int2['Original Intent'] = intent2_name\n",
        "topic4_int2 = topic4_int2.drop_duplicates()\n",
        "topic4_int2['Recommended Action'] = 'ADD'\n",
        "topic4_int2.head()"
      ]
    },
    {
      "cell_type": "code",
      "execution_count": null,
      "metadata": {
        "id": "uCsPPEV90-DK"
      },
      "outputs": [],
      "source": [
        "#find frequencies of top words and phrases in the top ngrams\n",
        "topic5_int2 = default_non_agent_int2[default_non_agent_int2['Clean'].str.contains(Topic5)]\n",
        "topic5_int2.head()"
      ]
    },
    {
      "cell_type": "code",
      "execution_count": null,
      "metadata": {
        "id": "lt5Gh7BE0-DK"
      },
      "outputs": [],
      "source": [
        "topic5_int2_count = topic5_int2.shape[0]\n",
        "print(topic5_int2_count)"
      ]
    },
    {
      "cell_type": "code",
      "execution_count": null,
      "metadata": {
        "id": "1c_FjCkD0-DK"
      },
      "outputs": [],
      "source": [
        "topic5_int2['Original Intent'] = intent2_name\n",
        "topic5_int2 = topic5_int2.drop_duplicates()\n",
        "topic5_int2['Recommended Action'] = 'ADD'\n",
        "topic5_int2.head()"
      ]
    },
    {
      "cell_type": "code",
      "execution_count": null,
      "metadata": {
        "id": "8_ZTKgJO0-DK"
      },
      "outputs": [],
      "source": [
        "#find frequencies of top words and phrases in the top ngrams\n",
        "topic6_int2 = default_non_agent_int2[default_non_agent_int2['Clean'].str.contains(Topic6)]\n",
        "topic6_int2.head()"
      ]
    },
    {
      "cell_type": "code",
      "execution_count": null,
      "metadata": {
        "id": "YDePd2Pt0-DK"
      },
      "outputs": [],
      "source": [
        "topic6_int2_count = topic6_int2.shape[0]\n",
        "print(topic6_int2_count)"
      ]
    },
    {
      "cell_type": "code",
      "execution_count": null,
      "metadata": {
        "id": "X8gF0NUu0-DK"
      },
      "outputs": [],
      "source": [
        "topic6_int2['Original Intent'] = intent2_name\n",
        "topic6_int2 = topic6_int2.drop_duplicates()\n",
        "topic6_int2['Recommended Action'] = 'ADD'\n",
        "topic6_int2.head()"
      ]
    },
    {
      "cell_type": "code",
      "execution_count": null,
      "metadata": {
        "id": "u8EM5_sF0-DK"
      },
      "outputs": [],
      "source": [
        "counts = [agent_count_int2, topic1_int2_count, topic2_int2_count, topic3_int2_count, topic4_int2_count, topic5_int2_count, topic6_int2_count]\n",
        "labels=['Agent Tranfer', Topic1, Topic2, Topic3, Topic4, Topic5, Topic6]\n",
        "\n",
        "# set height\n",
        "height = len(labels) * 0.75\n",
        "\n",
        "# set figure size\n",
        "plt.figure(figsize = (10, height))\n",
        "\n",
        "# create horizontal bar graph\n",
        "sns.barplot(x = counts, y = labels, palette = \"winter\")\n",
        "\n",
        "# set x and y labels\n",
        "plt.title(f'\\n{IVA}: Number of extracted utterances per topic going to {intent2_name}\\n', fontweight=\"bold\", fontsize = 14)\n",
        "plt.xlabel(\"\\nSuggested Topics\\n\", fontweight=\"bold\", fontsize = 12)\n",
        "plt.ylabel(\"\\nNumber of utterances\\n\", fontweight=\"bold\", fontsize = 12)\n",
        "plt.xticks(fontsize = 11)\n",
        "plt.yticks(fontsize = 11)\n",
        "\n",
        "# set filename\n",
        "filename = 'topic_count_' + intent2_name + '.png'\n",
        "\n",
        "# save the plot as an image\n",
        "plt.savefig(filename, bbox_inches = 'tight')\n",
        "\n",
        "# show the plot\n",
        "plt.show()"
      ]
    },
    {
      "cell_type": "code",
      "execution_count": null,
      "metadata": {
        "id": "MQJnDe7B0-DL"
      },
      "outputs": [],
      "source": [
        "# creating df with undefined selected utterances\n",
        "int2_selected = pd.concat([default_agent_int1, topic1_int2, topic2_int2, topic3_int2, topic4_int2, topic5_int2, topic6_int2], axis=0)\n",
        "int2_selected.shape"
      ]
    },
    {
      "cell_type": "markdown",
      "metadata": {
        "id": "fevT2lgx0-DL"
      },
      "source": [
        "# Labelled File Creation"
      ]
    },
    {
      "cell_type": "code",
      "execution_count": null,
      "metadata": {
        "id": "8FtzAGor0-DL"
      },
      "outputs": [],
      "source": [
        "labelled_file = pd.concat([def_selected, ag_selected, int1_selected, int2_selected], axis=0)\n",
        "labelled_file.shape"
      ]
    },
    {
      "cell_type": "code",
      "execution_count": null,
      "metadata": {
        "id": "HTMX04L70-DL"
      },
      "outputs": [],
      "source": [
        "# export dataframe into .cvs file\n",
        "labelled_file.to_csv(IVA + '_labeled.csv', encoding='utf-8', index=True, header=True)"
      ]
    }
  ],
  "metadata": {
    "colab": {
      "provenance": []
    },
    "kernelspec": {
      "display_name": "Python 3",
      "name": "python3"
    },
    "language_info": {
      "codemirror_mode": {
        "name": "ipython",
        "version": 3
      },
      "file_extension": ".py",
      "mimetype": "text/x-python",
      "name": "python",
      "nbconvert_exporter": "python",
      "pygments_lexer": "ipython3",
      "version": "3.10.9"
    }
  },
  "nbformat": 4,
  "nbformat_minor": 0
}
